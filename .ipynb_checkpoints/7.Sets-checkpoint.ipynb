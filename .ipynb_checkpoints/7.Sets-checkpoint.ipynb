{
 "cells": [
  {
   "cell_type": "code",
   "execution_count": 10,
   "id": "8a0e3d25-eeec-4960-8ac8-39a4d286328f",
   "metadata": {},
   "outputs": [],
   "source": [
    "my_set = set()"
   ]
  },
  {
   "cell_type": "code",
   "execution_count": 11,
   "id": "ed3cfa62-8bdc-474a-81f1-f78ca2ab4d1b",
   "metadata": {},
   "outputs": [],
   "source": [
    "my_set.add(10)"
   ]
  },
  {
   "cell_type": "code",
   "execution_count": 12,
   "id": "b3ea01fb-afb8-41af-a6f9-ee4a56802636",
   "metadata": {},
   "outputs": [
    {
     "data": {
      "text/plain": [
       "{10}"
      ]
     },
     "execution_count": 12,
     "metadata": {},
     "output_type": "execute_result"
    }
   ],
   "source": [
    "my_set"
   ]
  },
  {
   "cell_type": "code",
   "execution_count": 16,
   "id": "5770f9d1-c59c-4230-8805-19cbca773095",
   "metadata": {},
   "outputs": [],
   "source": [
    "my_set.add(20)"
   ]
  },
  {
   "cell_type": "code",
   "execution_count": 17,
   "id": "4916f5ff-df59-4057-bb35-7812f0fff5bd",
   "metadata": {},
   "outputs": [
    {
     "data": {
      "text/plain": [
       "{10, 20}"
      ]
     },
     "execution_count": 17,
     "metadata": {},
     "output_type": "execute_result"
    }
   ],
   "source": [
    "my_set"
   ]
  },
  {
   "cell_type": "code",
   "execution_count": 18,
   "id": "9f1a6d64-3160-490a-a194-70a25e10c064",
   "metadata": {},
   "outputs": [],
   "source": [
    "my_set.add(10)"
   ]
  },
  {
   "cell_type": "code",
   "execution_count": 19,
   "id": "7c18a61a-f1ac-4a7b-a76b-b26501d917fc",
   "metadata": {},
   "outputs": [
    {
     "data": {
      "text/plain": [
       "{10, 20}"
      ]
     },
     "execution_count": 19,
     "metadata": {},
     "output_type": "execute_result"
    }
   ],
   "source": [
    "my_set"
   ]
  },
  {
   "cell_type": "code",
   "execution_count": 20,
   "id": "cac1b041-4a19-4274-9d48-3efeaa37cec3",
   "metadata": {},
   "outputs": [],
   "source": [
    "new_set = {10, 20, 30, 40, 40}"
   ]
  },
  {
   "cell_type": "code",
   "execution_count": 21,
   "id": "affe7c6d-99d6-4584-8fb7-3c526cb55663",
   "metadata": {},
   "outputs": [
    {
     "data": {
      "text/plain": [
       "{10, 20, 30, 40}"
      ]
     },
     "execution_count": 21,
     "metadata": {},
     "output_type": "execute_result"
    }
   ],
   "source": [
    "new_set"
   ]
  },
  {
   "cell_type": "code",
   "execution_count": 24,
   "id": "73d22687-f95a-48eb-91a0-3361cd26ac1a",
   "metadata": {},
   "outputs": [],
   "source": [
    "my_list = [10, 20, 30, 40, 40, 60, 60, 10, 20, 30, 40]"
   ]
  },
  {
   "cell_type": "code",
   "execution_count": 25,
   "id": "66edb813-1b96-4bd1-9285-99d0e8339226",
   "metadata": {},
   "outputs": [
    {
     "data": {
      "text/plain": [
       "{10, 20, 30, 40, 60}"
      ]
     },
     "execution_count": 25,
     "metadata": {},
     "output_type": "execute_result"
    }
   ],
   "source": [
    "set(my_list)"
   ]
  },
  {
   "cell_type": "code",
   "execution_count": null,
   "id": "410284da-80f3-4932-929a-2a875f3f7ed3",
   "metadata": {},
   "outputs": [],
   "source": []
  }
 ],
 "metadata": {
  "kernelspec": {
   "display_name": "Python 3 (ipykernel)",
   "language": "python",
   "name": "python3"
  },
  "language_info": {
   "codemirror_mode": {
    "name": "ipython",
    "version": 3
   },
   "file_extension": ".py",
   "mimetype": "text/x-python",
   "name": "python",
   "nbconvert_exporter": "python",
   "pygments_lexer": "ipython3",
   "version": "3.11.7"
  }
 },
 "nbformat": 4,
 "nbformat_minor": 5
}
