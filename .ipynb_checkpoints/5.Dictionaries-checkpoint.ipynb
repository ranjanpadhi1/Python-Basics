{
 "cells": [
  {
   "cell_type": "code",
   "execution_count": 1,
   "id": "2f3366d4-f766-4f13-8f77-e8ed65da3b0e",
   "metadata": {},
   "outputs": [],
   "source": [
    "dict = {'k1': 'value 1', 'k2': 'value 2', 'k3': 'value 3'}"
   ]
  },
  {
   "cell_type": "code",
   "execution_count": 2,
   "id": "5f708e12-7ffe-4657-8044-0ad667520af9",
   "metadata": {},
   "outputs": [
    {
     "data": {
      "text/plain": [
       "{'k1': 'value 1', 'k2': 'value 2', 'k3': 'value 3'}"
      ]
     },
     "execution_count": 2,
     "metadata": {},
     "output_type": "execute_result"
    }
   ],
   "source": [
    "dict"
   ]
  },
  {
   "cell_type": "code",
   "execution_count": 4,
   "id": "fcd08803-3d39-4f79-9ddf-e94e8d5cb9a6",
   "metadata": {},
   "outputs": [
    {
     "data": {
      "text/plain": [
       "'value 1'"
      ]
     },
     "execution_count": 4,
     "metadata": {},
     "output_type": "execute_result"
    }
   ],
   "source": [
    "dict['k1']"
   ]
  },
  {
   "cell_type": "code",
   "execution_count": 5,
   "id": "17334953-3af2-4279-9b89-56d00055289b",
   "metadata": {},
   "outputs": [],
   "source": [
    "dict['k1'] = 'new value'"
   ]
  },
  {
   "cell_type": "code",
   "execution_count": 6,
   "id": "760f8a32-5ff4-42eb-8106-f8d65ff304eb",
   "metadata": {},
   "outputs": [
    {
     "data": {
      "text/plain": [
       "{'k1': 'new value', 'k2': 'value 2', 'k3': 'value 3'}"
      ]
     },
     "execution_count": 6,
     "metadata": {},
     "output_type": "execute_result"
    }
   ],
   "source": [
    "dict"
   ]
  },
  {
   "cell_type": "code",
   "execution_count": 7,
   "id": "50cc4d74-9993-459f-bff9-5a4747c955ea",
   "metadata": {},
   "outputs": [
    {
     "data": {
      "text/plain": [
       "dict_keys(['k1', 'k2', 'k3'])"
      ]
     },
     "execution_count": 7,
     "metadata": {},
     "output_type": "execute_result"
    }
   ],
   "source": [
    "dict.keys()"
   ]
  },
  {
   "cell_type": "code",
   "execution_count": 8,
   "id": "37f6ca31-ca68-4fd5-b230-05516e2b64e0",
   "metadata": {},
   "outputs": [
    {
     "data": {
      "text/plain": [
       "dict_values(['new value', 'value 2', 'value 3'])"
      ]
     },
     "execution_count": 8,
     "metadata": {},
     "output_type": "execute_result"
    }
   ],
   "source": [
    "dict.values()"
   ]
  },
  {
   "cell_type": "code",
   "execution_count": 9,
   "id": "9c49ab4c-a533-4b6e-8ea1-8a62bd470663",
   "metadata": {},
   "outputs": [],
   "source": [
    "dict['newKey'] = 'new value 2'"
   ]
  },
  {
   "cell_type": "code",
   "execution_count": 10,
   "id": "75e2693e-08b1-49ee-863a-56fdbb06b751",
   "metadata": {},
   "outputs": [
    {
     "data": {
      "text/plain": [
       "{'k1': 'new value', 'k2': 'value 2', 'k3': 'value 3', 'newKey': 'new value 2'}"
      ]
     },
     "execution_count": 10,
     "metadata": {},
     "output_type": "execute_result"
    }
   ],
   "source": [
    "dict"
   ]
  },
  {
   "cell_type": "code",
   "execution_count": 11,
   "id": "eb984fb5-b492-4b36-a929-86260cecfce6",
   "metadata": {},
   "outputs": [
    {
     "data": {
      "text/plain": [
       "dict_items([('k1', 'new value'), ('k2', 'value 2'), ('k3', 'value 3'), ('newKey', 'new value 2')])"
      ]
     },
     "execution_count": 11,
     "metadata": {},
     "output_type": "execute_result"
    }
   ],
   "source": [
    "dict.items()"
   ]
  },
  {
   "cell_type": "code",
   "execution_count": null,
   "id": "8366fb52-9ccc-4cc3-a558-0ecf52c3cbde",
   "metadata": {},
   "outputs": [],
   "source": []
  }
 ],
 "metadata": {
  "kernelspec": {
   "display_name": "Python 3 (ipykernel)",
   "language": "python",
   "name": "python3"
  },
  "language_info": {
   "codemirror_mode": {
    "name": "ipython",
    "version": 3
   },
   "file_extension": ".py",
   "mimetype": "text/x-python",
   "name": "python",
   "nbconvert_exporter": "python",
   "pygments_lexer": "ipython3",
   "version": "3.11.7"
  }
 },
 "nbformat": 4,
 "nbformat_minor": 5
}
