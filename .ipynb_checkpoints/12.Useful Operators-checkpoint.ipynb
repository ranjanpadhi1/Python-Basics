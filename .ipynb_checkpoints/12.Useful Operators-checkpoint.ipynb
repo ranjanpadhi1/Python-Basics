{
 "cells": [
  {
   "cell_type": "code",
   "execution_count": 1,
   "id": "e2f45a0f-a971-4d73-9704-b3c3a7058dbc",
   "metadata": {},
   "outputs": [],
   "source": [
    "# Zip function"
   ]
  },
  {
   "cell_type": "code",
   "execution_count": 5,
   "id": "69d8d7c8-edc0-4654-831c-4f052616e37d",
   "metadata": {
    "scrolled": true
   },
   "outputs": [
    {
     "name": "stdout",
     "output_type": "stream",
     "text": [
      "(10, 'ab', 100.2)\n",
      "(20, 'bc', 200.4)\n",
      "(30, 'cd', 150.6)\n"
     ]
    }
   ],
   "source": [
    "nums = [10, 20, 30]\n",
    "chars = ['ab', 'bc', 'cd']\n",
    "floats = [100.2, 200.4, 150.6]\n",
    "\n",
    "for item in zip(nums, chars, floats):\n",
    "    print(item)\n"
   ]
  },
  {
   "cell_type": "code",
   "execution_count": 11,
   "id": "1de756b5-6154-4a56-984b-3239512236d2",
   "metadata": {},
   "outputs": [
    {
     "name": "stdout",
     "output_type": "stream",
     "text": [
      "10 .. ab\n",
      "20 .. bc\n",
      "30 .. cd\n"
     ]
    }
   ],
   "source": [
    "for num, char in zip(nums, chars):\n",
    "    print(f'{num} .. {char}')"
   ]
  },
  {
   "cell_type": "code",
   "execution_count": 12,
   "id": "5e40154d-9ec0-48a3-9804-781628c2f73b",
   "metadata": {},
   "outputs": [],
   "source": [
    "# in operator"
   ]
  },
  {
   "cell_type": "code",
   "execution_count": 13,
   "id": "497a46d0-fbaa-4c36-abe9-06026d3454c7",
   "metadata": {},
   "outputs": [
    {
     "data": {
      "text/plain": [
       "True"
      ]
     },
     "execution_count": 13,
     "metadata": {},
     "output_type": "execute_result"
    }
   ],
   "source": [
    "1 in [1, 2, 3]"
   ]
  },
  {
   "cell_type": "code",
   "execution_count": 14,
   "id": "aba20a6b-4f65-4b8a-8310-e714b30d5c06",
   "metadata": {},
   "outputs": [
    {
     "data": {
      "text/plain": [
       "True"
      ]
     },
     "execution_count": 14,
     "metadata": {},
     "output_type": "execute_result"
    }
   ],
   "source": [
    "'abc' in ['abc', 'def']"
   ]
  },
  {
   "cell_type": "code",
   "execution_count": 15,
   "id": "44a109d1-860b-45e5-a5f1-f9d2fea69e60",
   "metadata": {},
   "outputs": [
    {
     "data": {
      "text/plain": [
       "True"
      ]
     },
     "execution_count": 15,
     "metadata": {},
     "output_type": "execute_result"
    }
   ],
   "source": [
    "'Ranjan' in 'this is Ranjan'"
   ]
  },
  {
   "cell_type": "code",
   "execution_count": 16,
   "id": "47924268-aca2-401a-8c07-3134cd753e87",
   "metadata": {},
   "outputs": [],
   "source": [
    "# min function"
   ]
  },
  {
   "cell_type": "code",
   "execution_count": 17,
   "id": "677dc4c7-753a-4f93-89b3-21231422a42b",
   "metadata": {},
   "outputs": [
    {
     "data": {
      "text/plain": [
       "100.2"
      ]
     },
     "execution_count": 17,
     "metadata": {},
     "output_type": "execute_result"
    }
   ],
   "source": [
    "min(floats)"
   ]
  },
  {
   "cell_type": "code",
   "execution_count": 18,
   "id": "38522a82-64fa-425e-baab-1d479684f253",
   "metadata": {},
   "outputs": [
    {
     "data": {
      "text/plain": [
       "'ab'"
      ]
     },
     "execution_count": 18,
     "metadata": {},
     "output_type": "execute_result"
    }
   ],
   "source": [
    "min(chars)"
   ]
  },
  {
   "cell_type": "code",
   "execution_count": 19,
   "id": "339a3f8b-8593-46c6-ab63-4b13453a157c",
   "metadata": {},
   "outputs": [
    {
     "data": {
      "text/plain": [
       "'1'"
      ]
     },
     "execution_count": 19,
     "metadata": {},
     "output_type": "execute_result"
    }
   ],
   "source": [
    "min('57812345')"
   ]
  },
  {
   "cell_type": "code",
   "execution_count": 20,
   "id": "52ddfbc3-dfd5-4c6d-8fe7-733917a6eb26",
   "metadata": {},
   "outputs": [],
   "source": [
    "# max function"
   ]
  },
  {
   "cell_type": "code",
   "execution_count": 21,
   "id": "95dbdb5e-8480-4936-9125-4d897e596326",
   "metadata": {},
   "outputs": [
    {
     "data": {
      "text/plain": [
       "30"
      ]
     },
     "execution_count": 21,
     "metadata": {},
     "output_type": "execute_result"
    }
   ],
   "source": [
    "max(nums)"
   ]
  },
  {
   "cell_type": "code",
   "execution_count": 22,
   "id": "601ca539-c083-4161-9c56-860daf7a9d9b",
   "metadata": {},
   "outputs": [
    {
     "data": {
      "text/plain": [
       "'cd'"
      ]
     },
     "execution_count": 22,
     "metadata": {},
     "output_type": "execute_result"
    }
   ],
   "source": [
    "max(chars)"
   ]
  },
  {
   "cell_type": "code",
   "execution_count": 23,
   "id": "b80a1764-6637-4b3a-abe4-95ec548fec92",
   "metadata": {},
   "outputs": [
    {
     "data": {
      "text/plain": [
       "'z'"
      ]
     },
     "execution_count": 23,
     "metadata": {},
     "output_type": "execute_result"
    }
   ],
   "source": [
    "max('abdfjgdfszgh')"
   ]
  },
  {
   "cell_type": "code",
   "execution_count": 4,
   "id": "147c8617-5717-44b2-9b06-30582b7e2d7f",
   "metadata": {},
   "outputs": [
    {
     "name": "stdout",
     "output_type": "stream",
     "text": [
      "[2, 3, 6, 4, 7, 1, 5, 9, 8]\n"
     ]
    }
   ],
   "source": [
    "# Random - Shuffle\n",
    "\n",
    "from random import shuffle\n",
    "my_list = [1,2,3,4,5,6,7,8,9]\n",
    "shuffle(my_list)\n",
    "print(my_list)"
   ]
  },
  {
   "cell_type": "code",
   "execution_count": 3,
   "id": "561d8bfa-7f78-4e67-9cbb-5885f58a3ac0",
   "metadata": {},
   "outputs": [
    {
     "data": {
      "text/plain": [
       "65"
      ]
     },
     "execution_count": 3,
     "metadata": {},
     "output_type": "execute_result"
    }
   ],
   "source": [
    "# Random - Random int\n",
    "\n",
    "from random import randint\n",
    "randint(0, 100)\n"
   ]
  },
  {
   "cell_type": "code",
   "execution_count": 6,
   "id": "1d85d83b-da6e-49ef-8ac7-2ff4105856bd",
   "metadata": {},
   "outputs": [
    {
     "name": "stdin",
     "output_type": "stream",
     "text": [
      "Enter your name :  Ranjan\n"
     ]
    }
   ],
   "source": [
    "# input function\n",
    "\n",
    "name = input('Enter your name : ')"
   ]
  },
  {
   "cell_type": "code",
   "execution_count": 7,
   "id": "de6a93af-bf9a-4e06-a2e7-b9f16086535c",
   "metadata": {},
   "outputs": [
    {
     "data": {
      "text/plain": [
       "'Ranjan'"
      ]
     },
     "execution_count": 7,
     "metadata": {},
     "output_type": "execute_result"
    }
   ],
   "source": [
    "name"
   ]
  },
  {
   "cell_type": "code",
   "execution_count": null,
   "id": "1d13c802-6c09-4f62-b089-fe12dc58babb",
   "metadata": {},
   "outputs": [],
   "source": []
  }
 ],
 "metadata": {
  "kernelspec": {
   "display_name": "Python 3 (ipykernel)",
   "language": "python",
   "name": "python3"
  },
  "language_info": {
   "codemirror_mode": {
    "name": "ipython",
    "version": 3
   },
   "file_extension": ".py",
   "mimetype": "text/x-python",
   "name": "python",
   "nbconvert_exporter": "python",
   "pygments_lexer": "ipython3",
   "version": "3.11.7"
  }
 },
 "nbformat": 4,
 "nbformat_minor": 5
}
