{
 "cells": [
  {
   "cell_type": "code",
   "execution_count": 1,
   "id": "25ebb36f-2a12-4338-b59d-ba4d7d9123f8",
   "metadata": {},
   "outputs": [
    {
     "data": {
      "text/plain": [
       "[1, 4, 9, 16, 25, 36]"
      ]
     },
     "execution_count": 1,
     "metadata": {},
     "output_type": "execute_result"
    }
   ],
   "source": [
    "# map function\n",
    "\n",
    "def square(num):\n",
    "    return num**2\n",
    "\n",
    "my_list = [1,2,3,4,5, 6]\n",
    "list(map(square, my_list))"
   ]
  },
  {
   "cell_type": "code",
   "execution_count": 2,
   "id": "5a27b1b1-9cc4-4ec0-ba9c-471c37b3aa2e",
   "metadata": {},
   "outputs": [
    {
     "data": {
      "text/plain": [
       "[2, 4, 6]"
      ]
     },
     "execution_count": 2,
     "metadata": {},
     "output_type": "execute_result"
    }
   ],
   "source": [
    "# filter function\n",
    "\n",
    "def even(num):\n",
    "    return num % 2 == 0\n",
    "\n",
    "list(filter(even, my_list))"
   ]
  },
  {
   "cell_type": "code",
   "execution_count": 3,
   "id": "9226e71e-825f-4de9-b77e-619a73d80f6b",
   "metadata": {},
   "outputs": [],
   "source": [
    "# lambda functions"
   ]
  },
  {
   "cell_type": "code",
   "execution_count": 4,
   "id": "356754dd-c4f0-40c0-98ac-34b23d0cf4b0",
   "metadata": {},
   "outputs": [
    {
     "data": {
      "text/plain": [
       "[1, 4, 9, 16, 25, 36]"
      ]
     },
     "execution_count": 4,
     "metadata": {},
     "output_type": "execute_result"
    }
   ],
   "source": [
    "list(map(lambda num: num**2, my_list))"
   ]
  },
  {
   "cell_type": "code",
   "execution_count": 5,
   "id": "77a2dd1b-d4b5-40c2-b61b-b9f14d3c4a37",
   "metadata": {},
   "outputs": [
    {
     "data": {
      "text/plain": [
       "[2, 4, 6]"
      ]
     },
     "execution_count": 5,
     "metadata": {},
     "output_type": "execute_result"
    }
   ],
   "source": [
    "list(filter(lambda num: num % 2 == 0, my_list))"
   ]
  },
  {
   "cell_type": "code",
   "execution_count": 6,
   "id": "005f74e5-7197-493c-b101-b344c635f156",
   "metadata": {},
   "outputs": [],
   "source": [
    "names = ['ranjan padhi', 'dEepak rathor', 'saikat CHowdhury']"
   ]
  },
  {
   "cell_type": "code",
   "execution_count": 7,
   "id": "89297c63-104e-4868-b9ae-9d1cd9b3b2f1",
   "metadata": {},
   "outputs": [
    {
     "data": {
      "text/plain": [
       "['r', 'd', 's']"
      ]
     },
     "execution_count": 7,
     "metadata": {},
     "output_type": "execute_result"
    }
   ],
   "source": [
    "# First letters\n",
    "list(map(lambda name: name[0], names))"
   ]
  },
  {
   "cell_type": "code",
   "execution_count": 8,
   "id": "3c28fb10-1772-4ebc-b2c5-a1ef4062ef2f",
   "metadata": {},
   "outputs": [
    {
     "data": {
      "text/plain": [
       "['RP', 'DR', 'SC']"
      ]
     },
     "execution_count": 8,
     "metadata": {},
     "output_type": "execute_result"
    }
   ],
   "source": [
    "# Initials\n",
    "list(map(lambda name: ''.join([x[0].upper() for x in name.split()]), names))"
   ]
  },
  {
   "cell_type": "code",
   "execution_count": 36,
   "id": "e3f3d7ec-057f-4226-914b-157336e9dca3",
   "metadata": {},
   "outputs": [
    {
     "data": {
      "text/plain": [
       "['RANJAN_PADHI', 'DEEPAK_RATHOR', 'SAIKAT_CHOWDHURY']"
      ]
     },
     "execution_count": 36,
     "metadata": {},
     "output_type": "execute_result"
    }
   ],
   "source": [
    "# Upper Snake case\n",
    "list(map(lambda name: name.replace(' ', '_').upper(), names))"
   ]
  },
  {
   "cell_type": "code",
   "execution_count": null,
   "id": "7b3d1d34-187a-4550-bcf5-47ddf56b07c0",
   "metadata": {},
   "outputs": [],
   "source": []
  }
 ],
 "metadata": {
  "kernelspec": {
   "display_name": "Python 3 (ipykernel)",
   "language": "python",
   "name": "python3"
  },
  "language_info": {
   "codemirror_mode": {
    "name": "ipython",
    "version": 3
   },
   "file_extension": ".py",
   "mimetype": "text/x-python",
   "name": "python",
   "nbconvert_exporter": "python",
   "pygments_lexer": "ipython3",
   "version": "3.11.7"
  }
 },
 "nbformat": 4,
 "nbformat_minor": 5
}
