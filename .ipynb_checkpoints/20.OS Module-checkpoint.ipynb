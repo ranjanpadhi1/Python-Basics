{
 "cells": [
  {
   "cell_type": "code",
   "execution_count": 1,
   "id": "0d58061c-e2f3-4845-82c9-f79b9d4b26b6",
   "metadata": {},
   "outputs": [],
   "source": [
    "f = open('my_file.txt', 'w+')\n",
    "f.write('This is a text file')\n",
    "f.close()"
   ]
  },
  {
   "cell_type": "code",
   "execution_count": 2,
   "id": "9a680b8b-e421-4b75-a037-f5699ab04f39",
   "metadata": {},
   "outputs": [],
   "source": [
    "# OS Module"
   ]
  },
  {
   "cell_type": "code",
   "execution_count": 3,
   "id": "d1b575ba-80b8-403e-adf0-5c7abf46bff9",
   "metadata": {},
   "outputs": [],
   "source": [
    "# Get current directory\n",
    "import os"
   ]
  },
  {
   "cell_type": "code",
   "execution_count": 4,
   "id": "9d6e32eb-d889-4500-b169-fdfe8ad700ce",
   "metadata": {},
   "outputs": [
    {
     "data": {
      "text/plain": [
       "'C:\\\\Users\\\\ranja\\\\Python'"
      ]
     },
     "execution_count": 4,
     "metadata": {},
     "output_type": "execute_result"
    }
   ],
   "source": [
    "# Get current directory\n",
    "os.getcwd()"
   ]
  },
  {
   "cell_type": "code",
   "execution_count": 5,
   "id": "21622f33-666b-4053-a578-8630ab3271b4",
   "metadata": {},
   "outputs": [
    {
     "data": {
      "text/plain": [
       "['.ipynb_checkpoints',\n",
       " '1.Numbers.ipynb',\n",
       " '10.Comparison and Logical operator.ipynb',\n",
       " '11.Statements and Loops.ipynb',\n",
       " '12.Useful Operators.ipynb',\n",
       " '13.Functions.ipynb',\n",
       " '14.Flask - Rest API.ipynb',\n",
       " '14.Map, Filter and Lambda.ipynb',\n",
       " '15.OOPS.ipynb',\n",
       " '16.Error Handling.ipynb',\n",
       " '17.Decorators.ipynb',\n",
       " '18.Generators.ipynb',\n",
       " '19.Collections Module.ipynb',\n",
       " '2.Strings.ipynb',\n",
       " '20.OS Module.ipynb',\n",
       " '3.Formatting.ipynb',\n",
       " '4.Lists.ipynb',\n",
       " '5.Dictionaries.ipynb',\n",
       " '6.Tuples.ipynb',\n",
       " '7.Sets.ipynb',\n",
       " '8.Booleans.ipynb',\n",
       " '9.Files.ipynb',\n",
       " 'brandNewFile.txt',\n",
       " 'myfile.txt',\n",
       " 'my_file.txt',\n",
       " 'Test',\n",
       " 'Web Scrapping.ipynb']"
      ]
     },
     "execution_count": 5,
     "metadata": {},
     "output_type": "execute_result"
    }
   ],
   "source": [
    "# List all files/directories in current fir\n",
    "os.listdir()"
   ]
  },
  {
   "cell_type": "code",
   "execution_count": 6,
   "id": "5dfef2d3-c604-458b-8306-b86359c52270",
   "metadata": {},
   "outputs": [
    {
     "data": {
      "text/plain": [
       "['my_file.txt', 'Programs', 'Tutorial Videos']"
      ]
     },
     "execution_count": 6,
     "metadata": {},
     "output_type": "execute_result"
    }
   ],
   "source": [
    "# List all files/directories in different fir\n",
    "os.listdir('D:\\\\Interview Preparation')"
   ]
  },
  {
   "cell_type": "code",
   "execution_count": 7,
   "id": "1d5bf476-4a09-4414-a6b8-07283e7bdf4e",
   "metadata": {},
   "outputs": [
    {
     "data": {
      "text/plain": [
       "'D:\\\\Interview Preparation\\\\my_file.txt'"
      ]
     },
     "execution_count": 7,
     "metadata": {},
     "output_type": "execute_result"
    }
   ],
   "source": [
    "# Move files\n",
    "import shutil\n",
    "\n",
    "shutil.move('C:\\\\Users\\\\ranja\\\\Python\\\\my_file.txt', 'D:\\\\Interview Preparation\\\\my_file.txt')"
   ]
  },
  {
   "cell_type": "code",
   "execution_count": 8,
   "id": "903a2141-2de3-4933-bbbe-81765b57a737",
   "metadata": {},
   "outputs": [
    {
     "data": {
      "text/plain": [
       "['my_file.txt', 'Programs', 'Tutorial Videos']"
      ]
     },
     "execution_count": 8,
     "metadata": {},
     "output_type": "execute_result"
    }
   ],
   "source": [
    "os.listdir('D:\\\\Interview Preparation')"
   ]
  },
  {
   "cell_type": "code",
   "execution_count": 9,
   "id": "566f288e-00c6-4085-bd64-e4a47cfcaf8a",
   "metadata": {},
   "outputs": [
    {
     "name": "stdout",
     "output_type": "stream",
     "text": [
      "This is a text file\n"
     ]
    }
   ],
   "source": [
    "with open('D:\\\\Interview Preparation\\\\my_file.txt') as file:\n",
    "    print(file.read())"
   ]
  },
  {
   "cell_type": "code",
   "execution_count": 10,
   "id": "48c7575d-1c62-40b1-9edf-927cf9728245",
   "metadata": {},
   "outputs": [
    {
     "name": "stdout",
     "output_type": "stream",
     "text": [
      "CWD: C:\\Users\\ranja\\Python\n",
      "CWD: C:\\Users\\ranja\\Python\\Test\n"
     ]
    }
   ],
   "source": [
    "# Create directory and change working directory\n",
    "\n",
    "print(f'CWD: {os.getcwd()}')\n",
    "\n",
    "if not os.path.exists('Test'):\n",
    "    os.makedirs('Test')\n",
    "    \n",
    "os.chdir('Test')\n",
    "print(f'CWD: {os.getcwd()}')"
   ]
  },
  {
   "cell_type": "code",
   "execution_count": 11,
   "id": "4a16093c-3a21-418f-b092-e0521f9337cf",
   "metadata": {},
   "outputs": [
    {
     "name": "stdout",
     "output_type": "stream",
     "text": [
      "files: ['test.txt']\n",
      "This is a test file\n"
     ]
    }
   ],
   "source": [
    "# Create File\n",
    "with open('test.txt', 'w+') as file:\n",
    "    file.write('This is a test file')\n",
    "\n",
    "print(f'files: {os.listdir()}')\n",
    "\n",
    "with open('test.txt') as file:\n",
    "    print(file.read())\n"
   ]
  },
  {
   "cell_type": "code",
   "execution_count": 12,
   "id": "20c67de1-ca13-4630-857d-138150d23b0d",
   "metadata": {},
   "outputs": [
    {
     "name": "stdout",
     "output_type": "stream",
     "text": [
      "files: []\n"
     ]
    }
   ],
   "source": [
    "os.unlink('test.txt')\n",
    "print(f'files: {os.listdir()}')"
   ]
  },
  {
   "cell_type": "code",
   "execution_count": 13,
   "id": "77f1cc88-ae92-48d8-bdc3-674a27ea59cd",
   "metadata": {},
   "outputs": [
    {
     "name": "stdout",
     "output_type": "stream",
     "text": [
      "CWD: C:\\Users\\ranja\\Python\n"
     ]
    }
   ],
   "source": [
    "os.chdir('../')\n",
    "print(f'CWD: {os.getcwd()}')"
   ]
  },
  {
   "cell_type": "code",
   "execution_count": 14,
   "id": "4d361398-0dbf-4e21-85c0-a2445d04df68",
   "metadata": {},
   "outputs": [],
   "source": [
    "os.removedirs('Test')"
   ]
  },
  {
   "cell_type": "code",
   "execution_count": 16,
   "id": "3b6c31de-a0a9-4ce6-8923-d5a4b8c1bd44",
   "metadata": {},
   "outputs": [
    {
     "data": {
      "text/plain": [
       "False"
      ]
     },
     "execution_count": 16,
     "metadata": {},
     "output_type": "execute_result"
    }
   ],
   "source": [
    "os.path.exists('Test')"
   ]
  },
  {
   "cell_type": "code",
   "execution_count": null,
   "id": "f34febc4-91f6-4689-9dae-a34cbc6f935e",
   "metadata": {},
   "outputs": [],
   "source": []
  }
 ],
 "metadata": {
  "kernelspec": {
   "display_name": "Python 3 (ipykernel)",
   "language": "python",
   "name": "python3"
  },
  "language_info": {
   "codemirror_mode": {
    "name": "ipython",
    "version": 3
   },
   "file_extension": ".py",
   "mimetype": "text/x-python",
   "name": "python",
   "nbconvert_exporter": "python",
   "pygments_lexer": "ipython3",
   "version": "3.11.7"
  }
 },
 "nbformat": 4,
 "nbformat_minor": 5
}
