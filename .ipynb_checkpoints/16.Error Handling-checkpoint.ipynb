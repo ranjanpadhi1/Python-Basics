{
 "cells": [
  {
   "cell_type": "code",
   "execution_count": 1,
   "id": "a7c626d8-45c6-461b-8f8b-610457a0420a",
   "metadata": {},
   "outputs": [],
   "source": [
    "# Class - Attributes and Methods\n",
    "\n",
    "class MFCalculator():\n",
    "\n",
    "    def __init__(self, roi):\n",
    "        self.roi = roi\n",
    "\n",
    "    def getReturn(self, amount, years):\n",
    "        for _ in range(years):\n",
    "            amount += ((amount * self.roi) / 100)\n",
    "        return round(amount)\n",
    "        "
   ]
  },
  {
   "cell_type": "code",
   "execution_count": 2,
   "id": "de9d66b0-0c81-41da-9b72-c01cf5f7d311",
   "metadata": {},
   "outputs": [],
   "source": [
    "c = MFCalculator(roi = 10)"
   ]
  },
  {
   "cell_type": "code",
   "execution_count": 3,
   "id": "08d4934d-aed1-4259-827c-43daca2d6f58",
   "metadata": {},
   "outputs": [
    {
     "data": {
      "text/plain": [
       "41772"
      ]
     },
     "execution_count": 3,
     "metadata": {},
     "output_type": "execute_result"
    }
   ],
   "source": [
    "c.getReturn(10000, 15)"
   ]
  },
  {
   "cell_type": "code",
   "execution_count": 4,
   "id": "d09575b5-0052-4a20-8b28-1960cb343448",
   "metadata": {},
   "outputs": [],
   "source": [
    "c2 = MFCalculator(roi = 12)"
   ]
  },
  {
   "cell_type": "code",
   "execution_count": 5,
   "id": "52936a68-169a-4234-b1be-d03e4b92a644",
   "metadata": {},
   "outputs": [
    {
     "data": {
      "text/plain": [
       "31058"
      ]
     },
     "execution_count": 5,
     "metadata": {},
     "output_type": "execute_result"
    }
   ],
   "source": [
    "c2.getReturn(10000, 10)"
   ]
  },
  {
   "cell_type": "code",
   "execution_count": 6,
   "id": "1b29ec89-4f74-402c-bff3-f088d3bd4010",
   "metadata": {},
   "outputs": [],
   "source": [
    "# Inheritance and Method \n",
    "\n",
    "class Animal():\n",
    "\n",
    "    def __init__(self):\n",
    "        print('Animal created')\n",
    "\n",
    "    def run(self):\n",
    "        print('Animal runs!')\n",
    "        \n",
    "    def eat(self):\n",
    "        print('Animal eats!')\n",
    "\n",
    "class Dog(Animal):\n",
    "\n",
    "    def __init__(self):\n",
    "        print('Dog created')\n",
    "        Animal.__init__(self)\n",
    "\n",
    "    def eat(self):\n",
    "        print('Dog eats!')\n",
    "\n",
    "    def bark(self):\n",
    "        print('Dog barks !!')\n",
    "\n"
   ]
  },
  {
   "cell_type": "code",
   "execution_count": 7,
   "id": "80f6a689-90c5-48e8-902e-bf258538bfe2",
   "metadata": {},
   "outputs": [
    {
     "name": "stdout",
     "output_type": "stream",
     "text": [
      "Dog created\n",
      "Animal created\n"
     ]
    }
   ],
   "source": [
    "dog = Dog()"
   ]
  },
  {
   "cell_type": "code",
   "execution_count": 8,
   "id": "15f989b9-9732-4d7a-a4f7-9aff2053db10",
   "metadata": {},
   "outputs": [
    {
     "name": "stdout",
     "output_type": "stream",
     "text": [
      "Animal runs!\n"
     ]
    }
   ],
   "source": [
    "dog.run()"
   ]
  },
  {
   "cell_type": "code",
   "execution_count": 9,
   "id": "645d62d4-6145-4bc3-a628-a6b04ae6b676",
   "metadata": {},
   "outputs": [
    {
     "name": "stdout",
     "output_type": "stream",
     "text": [
      "Dog eats!\n"
     ]
    }
   ],
   "source": [
    "dog.eat()"
   ]
  },
  {
   "cell_type": "code",
   "execution_count": 10,
   "id": "7dee778e-d4cd-4b04-8307-231982760110",
   "metadata": {},
   "outputs": [
    {
     "name": "stdout",
     "output_type": "stream",
     "text": [
      "Dog barks !!\n"
     ]
    }
   ],
   "source": [
    "dog.bark()"
   ]
  },
  {
   "cell_type": "code",
   "execution_count": 11,
   "id": "06078e0c-c743-44ab-9bb2-e74f3f42b2e5",
   "metadata": {},
   "outputs": [],
   "source": [
    "# Method Overloading Not supported !! (Alterate approach)\n",
    "\n",
    "class Greet:\n",
    "\n",
    "    def __init__(self):\n",
    "        pass\n",
    "\n",
    "    def hello(self, name = None):\n",
    "        if name == None:\n",
    "            print('Hello!')\n",
    "        else:\n",
    "            print(f'Hello {name}!')\n",
    "        "
   ]
  },
  {
   "cell_type": "code",
   "execution_count": 12,
   "id": "d96920cd-423d-4942-a268-27fca397d939",
   "metadata": {},
   "outputs": [
    {
     "name": "stdout",
     "output_type": "stream",
     "text": [
      "Hello!\n"
     ]
    }
   ],
   "source": [
    "Greet().hello()"
   ]
  },
  {
   "cell_type": "code",
   "execution_count": 13,
   "id": "c018a1a5-7bb1-4f0e-8085-b22ae4e42593",
   "metadata": {},
   "outputs": [
    {
     "name": "stdout",
     "output_type": "stream",
     "text": [
      "Hello Ranjan!\n"
     ]
    }
   ],
   "source": [
    "Greet().hello('Ranjan')"
   ]
  },
  {
   "cell_type": "code",
   "execution_count": 14,
   "id": "c02b71b4-86fe-4970-b8d4-f1e16563d82f",
   "metadata": {},
   "outputs": [],
   "source": [
    "# Special Functions\n",
    "\n",
    "class Book:\n",
    "\n",
    "    def __init__(self, title, author, pages):\n",
    "\n",
    "        self.title = title\n",
    "        self.author = author\n",
    "        self.pages = pages\n",
    "\n",
    "    def __str__(self):\n",
    "        return f'{self.title} by {self.author}'\n",
    "\n",
    "    def __len__(self):\n",
    "        return self.pages\n",
    "\n",
    "    def __del__(self):\n",
    "        print('Book has been deleted!')\n"
   ]
  },
  {
   "cell_type": "code",
   "execution_count": 15,
   "id": "12e74233-b19d-4822-809d-3b4fe221e173",
   "metadata": {},
   "outputs": [],
   "source": [
    "book = Book('Ikigai', 'Ranjan', 200)"
   ]
  },
  {
   "cell_type": "code",
   "execution_count": 16,
   "id": "aa66e244-e741-4192-877e-f5115894a604",
   "metadata": {},
   "outputs": [
    {
     "name": "stdout",
     "output_type": "stream",
     "text": [
      "Ikigai by Ranjan\n"
     ]
    }
   ],
   "source": [
    "print(book)"
   ]
  },
  {
   "cell_type": "code",
   "execution_count": 17,
   "id": "6b0b58cc-2d1c-41b8-bcad-2733c21c33b4",
   "metadata": {},
   "outputs": [
    {
     "data": {
      "text/plain": [
       "200"
      ]
     },
     "execution_count": 17,
     "metadata": {},
     "output_type": "execute_result"
    }
   ],
   "source": [
    "len(book)"
   ]
  },
  {
   "cell_type": "code",
   "execution_count": 18,
   "id": "0ad12672-f432-4cfd-9abd-ecbc82daf627",
   "metadata": {},
   "outputs": [
    {
     "name": "stdout",
     "output_type": "stream",
     "text": [
      "Book has been deleted!\n"
     ]
    }
   ],
   "source": [
    "# Delete objects\n",
    "\n",
    "del book"
   ]
  },
  {
   "cell_type": "code",
   "execution_count": 19,
   "id": "a7779b17-d6c8-42ad-aef3-08279391f8a9",
   "metadata": {},
   "outputs": [
    {
     "ename": "NameError",
     "evalue": "name 'book' is not defined",
     "output_type": "error",
     "traceback": [
      "\u001b[1;31m---------------------------------------------------------------------------\u001b[0m",
      "\u001b[1;31mNameError\u001b[0m                                 Traceback (most recent call last)",
      "Cell \u001b[1;32mIn[19], line 1\u001b[0m\n\u001b[1;32m----> 1\u001b[0m book\n",
      "\u001b[1;31mNameError\u001b[0m: name 'book' is not defined"
     ]
    }
   ],
   "source": [
    "book"
   ]
  },
  {
   "cell_type": "code",
   "execution_count": null,
   "id": "8a579649-4f6d-4379-9e97-5dd7f170a2e9",
   "metadata": {},
   "outputs": [],
   "source": [
    "__name__"
   ]
  },
  {
   "cell_type": "code",
   "execution_count": null,
   "id": "a68551fa-af28-41b6-b392-25ce4e5de574",
   "metadata": {},
   "outputs": [],
   "source": []
  }
 ],
 "metadata": {
  "kernelspec": {
   "display_name": "Python 3 (ipykernel)",
   "language": "python",
   "name": "python3"
  },
  "language_info": {
   "codemirror_mode": {
    "name": "ipython",
    "version": 3
   },
   "file_extension": ".py",
   "mimetype": "text/x-python",
   "name": "python",
   "nbconvert_exporter": "python",
   "pygments_lexer": "ipython3",
   "version": "3.11.7"
  }
 },
 "nbformat": 4,
 "nbformat_minor": 5
}
