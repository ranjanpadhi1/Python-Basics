{
 "cells": [
  {
   "cell_type": "code",
   "execution_count": 1,
   "id": "05a977d3-4fb3-410d-8b35-b1f2de36db0a",
   "metadata": {},
   "outputs": [],
   "source": [
    "mylist = ['a', 'b', 'c']"
   ]
  },
  {
   "cell_type": "code",
   "execution_count": 2,
   "id": "f267371c-552b-4b51-bb62-5fa1c3c3e599",
   "metadata": {},
   "outputs": [
    {
     "data": {
      "text/plain": [
       "['a', 'b', 'c']"
      ]
     },
     "execution_count": 2,
     "metadata": {},
     "output_type": "execute_result"
    }
   ],
   "source": [
    "mylist"
   ]
  },
  {
   "cell_type": "code",
   "execution_count": 3,
   "id": "569b5bae-14f4-499b-830a-e5dd74f46bf3",
   "metadata": {},
   "outputs": [
    {
     "data": {
      "text/plain": [
       "'a'"
      ]
     },
     "execution_count": 3,
     "metadata": {},
     "output_type": "execute_result"
    }
   ],
   "source": [
    "mylist[0]"
   ]
  },
  {
   "cell_type": "code",
   "execution_count": 4,
   "id": "1efc2420-0cc5-4561-93f3-d20dfaaaa294",
   "metadata": {},
   "outputs": [
    {
     "data": {
      "text/plain": [
       "['b', 'c']"
      ]
     },
     "execution_count": 4,
     "metadata": {},
     "output_type": "execute_result"
    }
   ],
   "source": [
    "mylist[1:]"
   ]
  },
  {
   "cell_type": "code",
   "execution_count": 6,
   "id": "65f97dbd-8f18-4265-af78-09bb49f1b8c3",
   "metadata": {},
   "outputs": [
    {
     "data": {
      "text/plain": [
       "['a', 'b']"
      ]
     },
     "execution_count": 6,
     "metadata": {},
     "output_type": "execute_result"
    }
   ],
   "source": [
    "mylist[:2]"
   ]
  },
  {
   "cell_type": "code",
   "execution_count": 8,
   "id": "8b138128-cd8e-4580-9e81-e1789dd145bb",
   "metadata": {},
   "outputs": [],
   "source": [
    "nums = ['one', 'two', 'three']"
   ]
  },
  {
   "cell_type": "code",
   "execution_count": 9,
   "id": "4b2b86ac-a56d-4110-af49-be5fad003d39",
   "metadata": {},
   "outputs": [],
   "source": [
    "result = nums + ['four', 'five']"
   ]
  },
  {
   "cell_type": "code",
   "execution_count": 10,
   "id": "163c0f36-7e5a-48e2-9055-dea00d7d8476",
   "metadata": {},
   "outputs": [
    {
     "data": {
      "text/plain": [
       "['one', 'two', 'three', 'four', 'five']"
      ]
     },
     "execution_count": 10,
     "metadata": {},
     "output_type": "execute_result"
    }
   ],
   "source": [
    "result"
   ]
  },
  {
   "cell_type": "code",
   "execution_count": 11,
   "id": "040adad6-bbcd-490d-96fc-d16fbecf6d34",
   "metadata": {},
   "outputs": [],
   "source": [
    "result[2] = 3"
   ]
  },
  {
   "cell_type": "code",
   "execution_count": 12,
   "id": "78c04121-8f2c-47a5-9f7a-bb45e7bfc8b9",
   "metadata": {},
   "outputs": [
    {
     "data": {
      "text/plain": [
       "['one', 'two', 3, 'four', 'five']"
      ]
     },
     "execution_count": 12,
     "metadata": {},
     "output_type": "execute_result"
    }
   ],
   "source": [
    "result"
   ]
  },
  {
   "cell_type": "code",
   "execution_count": 13,
   "id": "e23ed61f-83fe-461d-87ce-1ae3de5e9de0",
   "metadata": {},
   "outputs": [],
   "source": [
    "result.append('six')"
   ]
  },
  {
   "cell_type": "code",
   "execution_count": 14,
   "id": "708ef0ac-594f-443c-8222-a841c0606856",
   "metadata": {},
   "outputs": [
    {
     "data": {
      "text/plain": [
       "['one', 'two', 3, 'four', 'five', 'six']"
      ]
     },
     "execution_count": 14,
     "metadata": {},
     "output_type": "execute_result"
    }
   ],
   "source": [
    "result"
   ]
  },
  {
   "cell_type": "code",
   "execution_count": 15,
   "id": "39c36ef4-7746-41ef-a07c-b3bf14990dc8",
   "metadata": {},
   "outputs": [
    {
     "data": {
      "text/plain": [
       "'six'"
      ]
     },
     "execution_count": 15,
     "metadata": {},
     "output_type": "execute_result"
    }
   ],
   "source": [
    "result.pop()"
   ]
  },
  {
   "cell_type": "code",
   "execution_count": 16,
   "id": "854d822d-098d-48f0-bf85-9c855a1aa102",
   "metadata": {},
   "outputs": [
    {
     "data": {
      "text/plain": [
       "3"
      ]
     },
     "execution_count": 16,
     "metadata": {},
     "output_type": "execute_result"
    }
   ],
   "source": [
    "result.pop(2)"
   ]
  },
  {
   "cell_type": "code",
   "execution_count": 17,
   "id": "395b8407-d1e1-41ed-9b95-5ab2994da93a",
   "metadata": {},
   "outputs": [
    {
     "data": {
      "text/plain": [
       "['one', 'two', 'four', 'five']"
      ]
     },
     "execution_count": 17,
     "metadata": {},
     "output_type": "execute_result"
    }
   ],
   "source": [
    "result"
   ]
  },
  {
   "cell_type": "code",
   "execution_count": 19,
   "id": "d93f922e-1cc5-4ea6-9ac6-858053a31dac",
   "metadata": {},
   "outputs": [],
   "source": [
    "letters = ['c', 'a', 'd', 'k', 'f', 'b']"
   ]
  },
  {
   "cell_type": "code",
   "execution_count": 20,
   "id": "0fefcefa-70ae-41f3-a377-0e39e7aa4397",
   "metadata": {},
   "outputs": [
    {
     "data": {
      "text/plain": [
       "['c', 'a', 'd', 'k', 'f', 'b']"
      ]
     },
     "execution_count": 20,
     "metadata": {},
     "output_type": "execute_result"
    }
   ],
   "source": [
    "letters"
   ]
  },
  {
   "cell_type": "code",
   "execution_count": 24,
   "id": "68ce4111-576c-469f-a5a8-d04978571a22",
   "metadata": {},
   "outputs": [],
   "source": [
    "letters.sort()"
   ]
  },
  {
   "cell_type": "code",
   "execution_count": 25,
   "id": "386c1cbc-8785-4b1b-9ad4-cbb4a03d0c59",
   "metadata": {},
   "outputs": [
    {
     "data": {
      "text/plain": [
       "['a', 'b', 'c', 'd', 'f', 'k']"
      ]
     },
     "execution_count": 25,
     "metadata": {},
     "output_type": "execute_result"
    }
   ],
   "source": [
    "letters"
   ]
  },
  {
   "cell_type": "code",
   "execution_count": 26,
   "id": "7cddc1c1-7ccd-49ba-8dca-f16a0c264fe7",
   "metadata": {},
   "outputs": [],
   "source": [
    "letters.reverse()"
   ]
  },
  {
   "cell_type": "code",
   "execution_count": 27,
   "id": "bcba0431-ad83-4192-b252-238e6f1d4fe3",
   "metadata": {},
   "outputs": [
    {
     "data": {
      "text/plain": [
       "['k', 'f', 'd', 'c', 'b', 'a']"
      ]
     },
     "execution_count": 27,
     "metadata": {},
     "output_type": "execute_result"
    }
   ],
   "source": [
    "letters"
   ]
  },
  {
   "cell_type": "code",
   "execution_count": 28,
   "id": "825d3bd1-43bb-4df9-852d-38a8aff76103",
   "metadata": {},
   "outputs": [
    {
     "data": {
      "text/plain": [
       "NoneType"
      ]
     },
     "execution_count": 28,
     "metadata": {},
     "output_type": "execute_result"
    }
   ],
   "source": [
    "type(letters.reverse())"
   ]
  },
  {
   "cell_type": "code",
   "execution_count": 29,
   "id": "55a33600-f7da-47ae-9461-d3c1504c1cf5",
   "metadata": {},
   "outputs": [],
   "source": [
    "None"
   ]
  },
  {
   "cell_type": "code",
   "execution_count": 1,
   "id": "085f0fb5-ce53-45ac-ab77-283d8d28f292",
   "metadata": {},
   "outputs": [
    {
     "name": "stdout",
     "output_type": "stream",
     "text": [
      "['h', 'e', 'l', 'l', 'o']\n"
     ]
    }
   ],
   "source": [
    "# List comprehensive\n",
    "my_list = [char for char in 'hello']\n",
    "print(my_list)"
   ]
  },
  {
   "cell_type": "code",
   "execution_count": 2,
   "id": "fa030e92-9d2c-4045-9be3-41d9eba40685",
   "metadata": {},
   "outputs": [
    {
     "name": "stdout",
     "output_type": "stream",
     "text": [
      "[0, 2, 4, 6, 8, 10]\n"
     ]
    }
   ],
   "source": [
    "my_list = [num for num in range(0,11) if num % 2 == 0]\n",
    "print(my_list)"
   ]
  },
  {
   "cell_type": "code",
   "execution_count": 3,
   "id": "740cd5ca-9dc2-4897-9c0c-fa5bc5434788",
   "metadata": {},
   "outputs": [
    {
     "name": "stdout",
     "output_type": "stream",
     "text": [
      "[0, 4, 16, 36, 64, 100]\n"
     ]
    }
   ],
   "source": [
    "my_list = [num**2 for num in range(0,11) if num % 2 == 0]\n",
    "print(my_list)"
   ]
  },
  {
   "cell_type": "code",
   "execution_count": null,
   "id": "3ba0b659-37b4-4fb1-9c49-654935d75eed",
   "metadata": {},
   "outputs": [],
   "source": []
  }
 ],
 "metadata": {
  "kernelspec": {
   "display_name": "Python 3 (ipykernel)",
   "language": "python",
   "name": "python3"
  },
  "language_info": {
   "codemirror_mode": {
    "name": "ipython",
    "version": 3
   },
   "file_extension": ".py",
   "mimetype": "text/x-python",
   "name": "python",
   "nbconvert_exporter": "python",
   "pygments_lexer": "ipython3",
   "version": "3.11.7"
  }
 },
 "nbformat": 4,
 "nbformat_minor": 5
}
