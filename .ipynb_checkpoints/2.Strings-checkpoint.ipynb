{
 "cells": [
  {
   "cell_type": "markdown",
   "id": "a61025fc-e43a-4c62-a6d7-dc60c43c0006",
   "metadata": {},
   "source": [
    "Strings"
   ]
  },
  {
   "cell_type": "code",
   "execution_count": 1,
   "id": "b12b3d32-b411-4a14-8a7e-c13e65e69c58",
   "metadata": {},
   "outputs": [
    {
     "data": {
      "text/plain": [
       "'abc'"
      ]
     },
     "execution_count": 1,
     "metadata": {},
     "output_type": "execute_result"
    }
   ],
   "source": [
    "\"abc\""
   ]
  },
  {
   "cell_type": "code",
   "execution_count": 2,
   "id": "b62b34fe-ff8c-4c58-af65-55d4da9373e1",
   "metadata": {},
   "outputs": [
    {
     "data": {
      "text/plain": [
       "'abcd'"
      ]
     },
     "execution_count": 2,
     "metadata": {},
     "output_type": "execute_result"
    }
   ],
   "source": [
    "'abcd'"
   ]
  },
  {
   "cell_type": "code",
   "execution_count": 3,
   "id": "d1e72c18-ed30-4182-bf79-047e853deb2d",
   "metadata": {
    "scrolled": true
   },
   "outputs": [
    {
     "data": {
      "text/plain": [
       "\"I'm Ranjan\""
      ]
     },
     "execution_count": 3,
     "metadata": {},
     "output_type": "execute_result"
    }
   ],
   "source": [
    "\"I'm Ranjan\""
   ]
  },
  {
   "cell_type": "code",
   "execution_count": 4,
   "id": "4a62f35c-18ed-4eb8-9817-96391ddf6eca",
   "metadata": {},
   "outputs": [],
   "source": [
    "name = 'Ranjan'"
   ]
  },
  {
   "cell_type": "code",
   "execution_count": 5,
   "id": "f44353bf-3231-494b-ac93-b92b0283e252",
   "metadata": {},
   "outputs": [
    {
     "data": {
      "text/plain": [
       "6"
      ]
     },
     "execution_count": 5,
     "metadata": {},
     "output_type": "execute_result"
    }
   ],
   "source": [
    "len(name)"
   ]
  },
  {
   "cell_type": "code",
   "execution_count": 6,
   "id": "92ae021e-65e9-45f4-bf77-e3175bce8b5f",
   "metadata": {},
   "outputs": [
    {
     "name": "stdout",
     "output_type": "stream",
     "text": [
      "Ranjan\n"
     ]
    }
   ],
   "source": [
    "print(name)"
   ]
  },
  {
   "cell_type": "code",
   "execution_count": 7,
   "id": "e5ac6d3c-facf-48c8-8926-c079a3b05e59",
   "metadata": {},
   "outputs": [
    {
     "data": {
      "text/plain": [
       "'Hello world 2'"
      ]
     },
     "execution_count": 7,
     "metadata": {},
     "output_type": "execute_result"
    }
   ],
   "source": [
    "\"Hello world 1\"\n",
    "\"Hello world 2\""
   ]
  },
  {
   "cell_type": "code",
   "execution_count": 8,
   "id": "922767cf-0673-47b3-bf71-888bee3a4fdd",
   "metadata": {},
   "outputs": [
    {
     "name": "stdout",
     "output_type": "stream",
     "text": [
      "Hello world 1\n",
      "Hello world 2\n"
     ]
    }
   ],
   "source": [
    "print(\"Hello world 1\")\n",
    "print(\"Hello world 2\")"
   ]
  },
  {
   "cell_type": "code",
   "execution_count": 9,
   "id": "0fdb6c37-cb79-4e4d-8f4b-543291746458",
   "metadata": {},
   "outputs": [
    {
     "name": "stdout",
     "output_type": "stream",
     "text": [
      "Hello \n",
      "Ranjan\n"
     ]
    }
   ],
   "source": [
    "print(\"Hello \\nRanjan\")"
   ]
  },
  {
   "cell_type": "markdown",
   "id": "4beefb08-ace2-430e-8ce3-e33d4fbb7ade",
   "metadata": {},
   "source": [
    "String Indexing and slicing"
   ]
  },
  {
   "cell_type": "code",
   "execution_count": 10,
   "id": "bea8842a-c621-4075-8977-bc68195328a5",
   "metadata": {},
   "outputs": [],
   "source": [
    "msg = \"Hello World\""
   ]
  },
  {
   "cell_type": "code",
   "execution_count": 11,
   "id": "9384fe03-a8d1-47f8-8dde-c1fc9010c8d5",
   "metadata": {},
   "outputs": [
    {
     "data": {
      "text/plain": [
       "'H'"
      ]
     },
     "execution_count": 11,
     "metadata": {},
     "output_type": "execute_result"
    }
   ],
   "source": [
    "msg[0]"
   ]
  },
  {
   "cell_type": "code",
   "execution_count": 12,
   "id": "7779f3c5-1d28-4599-8fc3-94e8ab7a842e",
   "metadata": {},
   "outputs": [
    {
     "data": {
      "text/plain": [
       "'W'"
      ]
     },
     "execution_count": 12,
     "metadata": {},
     "output_type": "execute_result"
    }
   ],
   "source": [
    "msg[6]"
   ]
  },
  {
   "cell_type": "code",
   "execution_count": 13,
   "id": "5b5217b4-f16c-44b9-9c0b-c6d44170550f",
   "metadata": {},
   "outputs": [
    {
     "data": {
      "text/plain": [
       "'l'"
      ]
     },
     "execution_count": 13,
     "metadata": {},
     "output_type": "execute_result"
    }
   ],
   "source": [
    "msg[-2]"
   ]
  },
  {
   "cell_type": "code",
   "execution_count": 14,
   "id": "ffdc2ed2-0c6e-442c-9340-2931b55316c1",
   "metadata": {},
   "outputs": [
    {
     "data": {
      "text/plain": [
       "'W'"
      ]
     },
     "execution_count": 14,
     "metadata": {},
     "output_type": "execute_result"
    }
   ],
   "source": [
    "msg[-5]"
   ]
  },
  {
   "cell_type": "code",
   "execution_count": 15,
   "id": "73d3a4fd-6f52-4ac3-9cf5-011666aa6194",
   "metadata": {},
   "outputs": [
    {
     "data": {
      "text/plain": [
       "'ll'"
      ]
     },
     "execution_count": 15,
     "metadata": {},
     "output_type": "execute_result"
    }
   ],
   "source": [
    "msg[2:4]"
   ]
  },
  {
   "cell_type": "code",
   "execution_count": 16,
   "id": "092af36e-3178-4ef8-ab05-4654d6637fad",
   "metadata": {},
   "outputs": [
    {
     "data": {
      "text/plain": [
       "'World'"
      ]
     },
     "execution_count": 16,
     "metadata": {},
     "output_type": "execute_result"
    }
   ],
   "source": [
    "msg[6:]"
   ]
  },
  {
   "cell_type": "code",
   "execution_count": 17,
   "id": "1f0ae321-88d3-4c80-a1ec-bd80db56c0d7",
   "metadata": {},
   "outputs": [
    {
     "data": {
      "text/plain": [
       "'Hello'"
      ]
     },
     "execution_count": 17,
     "metadata": {},
     "output_type": "execute_result"
    }
   ],
   "source": [
    "msg[:5]"
   ]
  },
  {
   "cell_type": "code",
   "execution_count": 18,
   "id": "02018535-0b2c-4967-8723-4df9feb7f090",
   "metadata": {},
   "outputs": [
    {
     "data": {
      "text/plain": [
       "'HloWrd'"
      ]
     },
     "execution_count": 18,
     "metadata": {},
     "output_type": "execute_result"
    }
   ],
   "source": [
    "msg[::2]"
   ]
  },
  {
   "cell_type": "code",
   "execution_count": 19,
   "id": "7e44eeff-2861-4e81-aa81-5064cb104ede",
   "metadata": {},
   "outputs": [
    {
     "data": {
      "text/plain": [
       "'HlWl'"
      ]
     },
     "execution_count": 19,
     "metadata": {},
     "output_type": "execute_result"
    }
   ],
   "source": [
    "msg[::3]"
   ]
  },
  {
   "cell_type": "code",
   "execution_count": 20,
   "id": "65ccdc0d-482e-414e-af6f-e8b688e28a9d",
   "metadata": {},
   "outputs": [
    {
     "data": {
      "text/plain": [
       "'dlroW olleH'"
      ]
     },
     "execution_count": 20,
     "metadata": {},
     "output_type": "execute_result"
    }
   ],
   "source": [
    "msg[::-1]  #reverse"
   ]
  },
  {
   "cell_type": "code",
   "execution_count": 21,
   "id": "eead5161-d378-45a6-b86e-5a0c66d566e8",
   "metadata": {},
   "outputs": [],
   "source": [
    "word = 'Cat'"
   ]
  },
  {
   "cell_type": "code",
   "execution_count": 22,
   "id": "5992118a-48b7-4d80-bcf3-feb57ee8412b",
   "metadata": {},
   "outputs": [
    {
     "data": {
      "text/plain": [
       "'Cat'"
      ]
     },
     "execution_count": 22,
     "metadata": {},
     "output_type": "execute_result"
    }
   ],
   "source": [
    "word"
   ]
  },
  {
   "cell_type": "code",
   "execution_count": 23,
   "id": "4ad6a233-babf-432b-a359-9e287aba6e62",
   "metadata": {},
   "outputs": [],
   "source": [
    "word = 'R' + word[1:]"
   ]
  },
  {
   "cell_type": "code",
   "execution_count": 24,
   "id": "179e0b0c-a43e-4be8-b1e9-0c349f9ef8ea",
   "metadata": {},
   "outputs": [
    {
     "data": {
      "text/plain": [
       "'Rat'"
      ]
     },
     "execution_count": 24,
     "metadata": {},
     "output_type": "execute_result"
    }
   ],
   "source": [
    "word"
   ]
  },
  {
   "cell_type": "code",
   "execution_count": 25,
   "id": "b7a0e4c9-e0fc-4206-aec5-760b4115ff7b",
   "metadata": {},
   "outputs": [
    {
     "data": {
      "text/plain": [
       "'RatRat'"
      ]
     },
     "execution_count": 25,
     "metadata": {},
     "output_type": "execute_result"
    }
   ],
   "source": [
    "word * 2"
   ]
  },
  {
   "cell_type": "markdown",
   "id": "82145d92-e4f5-4886-9fca-604dddccf038",
   "metadata": {},
   "source": [
    "String Functions"
   ]
  },
  {
   "cell_type": "code",
   "execution_count": 26,
   "id": "c5c07206-bf29-4765-8dab-8fffb130b3ad",
   "metadata": {},
   "outputs": [],
   "source": [
    "x = 'Hello World'"
   ]
  },
  {
   "cell_type": "code",
   "execution_count": 27,
   "id": "7962f56a-9b98-4bde-a7d5-88ca72e7face",
   "metadata": {},
   "outputs": [
    {
     "data": {
      "text/plain": [
       "'Hello World'"
      ]
     },
     "execution_count": 27,
     "metadata": {},
     "output_type": "execute_result"
    }
   ],
   "source": [
    "x"
   ]
  },
  {
   "cell_type": "code",
   "execution_count": 28,
   "id": "c7188114-ff56-4d54-a768-bc4332c61e21",
   "metadata": {},
   "outputs": [
    {
     "data": {
      "text/plain": [
       "'HELLO WORLD'"
      ]
     },
     "execution_count": 28,
     "metadata": {},
     "output_type": "execute_result"
    }
   ],
   "source": [
    "x.upper()"
   ]
  },
  {
   "cell_type": "code",
   "execution_count": 29,
   "id": "16e6e3e4-dd92-4cb0-ae2a-00acd894477d",
   "metadata": {},
   "outputs": [
    {
     "data": {
      "text/plain": [
       "'hello world'"
      ]
     },
     "execution_count": 29,
     "metadata": {},
     "output_type": "execute_result"
    }
   ],
   "source": [
    "x.lower()"
   ]
  },
  {
   "cell_type": "code",
   "execution_count": 30,
   "id": "0da6b1a8-edcc-4514-9412-f3d29edc3025",
   "metadata": {},
   "outputs": [
    {
     "data": {
      "text/plain": [
       "['Hello', 'World']"
      ]
     },
     "execution_count": 30,
     "metadata": {},
     "output_type": "execute_result"
    }
   ],
   "source": [
    "x.split(' ')"
   ]
  },
  {
   "cell_type": "code",
   "execution_count": 38,
   "id": "f225f516-cb0e-463b-a7eb-abe055e09344",
   "metadata": {},
   "outputs": [
    {
     "data": {
      "text/plain": [
       "['Hello', 'World']"
      ]
     },
     "execution_count": 38,
     "metadata": {},
     "output_type": "execute_result"
    }
   ],
   "source": [
    "x.split()"
   ]
  },
  {
   "cell_type": "code",
   "execution_count": 39,
   "id": "bf2bde95-13a1-4eac-96da-f145f529612e",
   "metadata": {},
   "outputs": [
    {
     "data": {
      "text/plain": [
       "['H', 'e', 'l', 'l', 'o']"
      ]
     },
     "execution_count": 39,
     "metadata": {},
     "output_type": "execute_result"
    }
   ],
   "source": [
    "list('Hello')"
   ]
  },
  {
   "cell_type": "code",
   "execution_count": 40,
   "id": "e449eb64-52f7-42f8-8326-3dd42980df1f",
   "metadata": {},
   "outputs": [
    {
     "data": {
      "text/plain": [
       "{'H', 'e', 'l', 'o'}"
      ]
     },
     "execution_count": 40,
     "metadata": {},
     "output_type": "execute_result"
    }
   ],
   "source": [
    "set('Hello')"
   ]
  },
  {
   "cell_type": "code",
   "execution_count": null,
   "id": "078c9359-3ff1-4f2b-8a94-7fe3bf44c1a2",
   "metadata": {},
   "outputs": [],
   "source": []
  }
 ],
 "metadata": {
  "kernelspec": {
   "display_name": "Python 3 (ipykernel)",
   "language": "python",
   "name": "python3"
  },
  "language_info": {
   "codemirror_mode": {
    "name": "ipython",
    "version": 3
   },
   "file_extension": ".py",
   "mimetype": "text/x-python",
   "name": "python",
   "nbconvert_exporter": "python",
   "pygments_lexer": "ipython3",
   "version": "3.11.7"
  }
 },
 "nbformat": 4,
 "nbformat_minor": 5
}
