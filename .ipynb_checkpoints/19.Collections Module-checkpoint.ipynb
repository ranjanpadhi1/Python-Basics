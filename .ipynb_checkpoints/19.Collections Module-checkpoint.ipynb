{
 "cells": [
  {
   "cell_type": "code",
   "execution_count": 1,
   "id": "e7498b19-bc98-4e81-808f-3087f4147a04",
   "metadata": {},
   "outputs": [
    {
     "data": {
      "text/plain": [
       "Counter({4: 6, 5: 5, 2: 3, 1: 2, 3: 1})"
      ]
     },
     "execution_count": 1,
     "metadata": {},
     "output_type": "execute_result"
    }
   ],
   "source": [
    "# Counter\n",
    "\n",
    "from collections import Counter\n",
    "\n",
    "list = [1,1,2,2,2,3,4,4,4,4,4,4,5,5,5,5,5]\n",
    "Counter(list)"
   ]
  },
  {
   "cell_type": "code",
   "execution_count": 2,
   "id": "ec111823-ba36-4fb1-b382-4f86efb78511",
   "metadata": {},
   "outputs": [
    {
     "data": {
      "text/plain": [
       "Counter({'f': 4, 'a': 2, 'h': 2, 'g': 2, 's': 2, 'b': 1, 'c': 1})"
      ]
     },
     "execution_count": 2,
     "metadata": {},
     "output_type": "execute_result"
    }
   ],
   "source": [
    "c = Counter('aabchfghgssfff')\n",
    "c"
   ]
  },
  {
   "cell_type": "code",
   "execution_count": 4,
   "id": "9b78b4a4-7ca3-42b3-9372-4b29d71884a8",
   "metadata": {},
   "outputs": [
    {
     "data": {
      "text/plain": [
       "[('f', 4), ('a', 2), ('h', 2), ('g', 2)]"
      ]
     },
     "execution_count": 4,
     "metadata": {},
     "output_type": "execute_result"
    }
   ],
   "source": [
    "c.most_common(4)"
   ]
  },
  {
   "cell_type": "code",
   "execution_count": 12,
   "id": "25fd1cb9-dca5-42c4-a3c8-9a1ff399831b",
   "metadata": {},
   "outputs": [],
   "source": [
    "# Default Dictionary\n",
    "\n",
    "from collections import defaultdict\n",
    "\n",
    "map = defaultdict(lambda: 0)\n",
    "map['abc'] = 'test'"
   ]
  },
  {
   "cell_type": "code",
   "execution_count": 13,
   "id": "524b10ed-71cf-4ede-bc60-c222593147bd",
   "metadata": {},
   "outputs": [
    {
     "data": {
      "text/plain": [
       "'test'"
      ]
     },
     "execution_count": 13,
     "metadata": {},
     "output_type": "execute_result"
    }
   ],
   "source": [
    "map['abc']"
   ]
  },
  {
   "cell_type": "code",
   "execution_count": 14,
   "id": "3b474a67-ceb3-4daf-8b5e-b61f6224b381",
   "metadata": {},
   "outputs": [
    {
     "data": {
      "text/plain": [
       "0"
      ]
     },
     "execution_count": 14,
     "metadata": {},
     "output_type": "execute_result"
    }
   ],
   "source": [
    "map['def']"
   ]
  },
  {
   "cell_type": "code",
   "execution_count": 15,
   "id": "cdf4e772-c158-4cb8-8dc9-5f471aa330cf",
   "metadata": {},
   "outputs": [
    {
     "data": {
      "text/plain": [
       "defaultdict(<function __main__.<lambda>()>, {'abc': 'test', 'def': 0})"
      ]
     },
     "execution_count": 15,
     "metadata": {},
     "output_type": "execute_result"
    }
   ],
   "source": [
    "map"
   ]
  },
  {
   "cell_type": "code",
   "execution_count": 17,
   "id": "de4cfb6b-8e6c-439b-a85d-75b3aa9df585",
   "metadata": {},
   "outputs": [],
   "source": [
    "# Named Tuple\n",
    "\n",
    "from collections import namedtuple\n",
    "\n",
    "Dog = namedtuple('Dog', ['name', 'breed', 'age'])\n"
   ]
  },
  {
   "cell_type": "code",
   "execution_count": 18,
   "id": "31d7f539-3f4f-41a5-886c-75ae5d3a9384",
   "metadata": {},
   "outputs": [],
   "source": [
    "jimmy = Dog(name='Jimmy', breed='Husky', age=5)"
   ]
  },
  {
   "cell_type": "code",
   "execution_count": 19,
   "id": "3df197a3-7f41-4198-9455-a913b11a28c8",
   "metadata": {},
   "outputs": [
    {
     "data": {
      "text/plain": [
       "Dog(name='Jimmy', breed='Husky', age=5)"
      ]
     },
     "execution_count": 19,
     "metadata": {},
     "output_type": "execute_result"
    }
   ],
   "source": [
    "jimmy"
   ]
  },
  {
   "cell_type": "code",
   "execution_count": 20,
   "id": "61a60c49-4620-472c-b670-8f6665afe67f",
   "metadata": {},
   "outputs": [
    {
     "data": {
      "text/plain": [
       "'Husky'"
      ]
     },
     "execution_count": 20,
     "metadata": {},
     "output_type": "execute_result"
    }
   ],
   "source": [
    "jimmy[1]"
   ]
  },
  {
   "cell_type": "code",
   "execution_count": null,
   "id": "084b844e-27de-4b39-9cea-6fc05ff79c8b",
   "metadata": {},
   "outputs": [],
   "source": []
  }
 ],
 "metadata": {
  "kernelspec": {
   "display_name": "Python 3 (ipykernel)",
   "language": "python",
   "name": "python3"
  },
  "language_info": {
   "codemirror_mode": {
    "name": "ipython",
    "version": 3
   },
   "file_extension": ".py",
   "mimetype": "text/x-python",
   "name": "python",
   "nbconvert_exporter": "python",
   "pygments_lexer": "ipython3",
   "version": "3.11.7"
  }
 },
 "nbformat": 4,
 "nbformat_minor": 5
}
