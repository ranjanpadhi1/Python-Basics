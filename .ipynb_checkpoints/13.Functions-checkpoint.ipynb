{
 "cells": [
  {
   "cell_type": "code",
   "execution_count": 1,
   "id": "ccba0017-23e0-44f8-9d6c-be886f4fbd99",
   "metadata": {},
   "outputs": [],
   "source": [
    "# Functions"
   ]
  },
  {
   "cell_type": "code",
   "execution_count": 2,
   "id": "695eb5b1-009c-4719-b289-d6d8ac6a57ac",
   "metadata": {},
   "outputs": [],
   "source": [
    "def add_function(val1, val2):\n",
    "    return val1 + val2"
   ]
  },
  {
   "cell_type": "code",
   "execution_count": 3,
   "id": "f85db419-03f2-48b2-aaae-e3016d3b09ed",
   "metadata": {},
   "outputs": [
    {
     "data": {
      "text/plain": [
       "30"
      ]
     },
     "execution_count": 3,
     "metadata": {},
     "output_type": "execute_result"
    }
   ],
   "source": [
    "add_function(10, 20)"
   ]
  },
  {
   "cell_type": "code",
   "execution_count": 4,
   "id": "0cc6b8f4-119d-450e-badf-ea87241a1b2e",
   "metadata": {},
   "outputs": [],
   "source": [
    "# Two Sum\n",
    "def two_sum(nums, target):\n",
    "    map = dict()\n",
    "    for i, num in enumerate(nums):\n",
    "        if target - num in map:\n",
    "            return [i, map[target - num]]\n",
    "        else:\n",
    "            map[num] = i\n",
    "        "
   ]
  },
  {
   "cell_type": "code",
   "execution_count": 5,
   "id": "d39ce811-cd39-4b50-a0c4-57bfc0af9043",
   "metadata": {},
   "outputs": [
    {
     "data": {
      "text/plain": [
       "[1, 0]"
      ]
     },
     "execution_count": 5,
     "metadata": {},
     "output_type": "execute_result"
    }
   ],
   "source": [
    "two_sum(nums = [2,7,11,15], target = 9)"
   ]
  },
  {
   "cell_type": "code",
   "execution_count": 6,
   "id": "4384d23a-de6c-44ba-bac7-f7e4bdab9914",
   "metadata": {},
   "outputs": [],
   "source": [
    "# Palindrome Number\n",
    "\n",
    "def isPalindrome(self, x):\n",
    "    if x < 0:\n",
    "        return False\n",
    "    \n",
    "    digits = [c for c in str(x)]\n",
    "    left, right = 0, len(digits) - 1\n",
    "\n",
    "    while left < right:\n",
    "        if digits[left] != digits[right]:\n",
    "            return False\n",
    "            \n",
    "        left += 1\n",
    "        right -= 1\n",
    "    \n",
    "    return True"
   ]
  },
  {
   "cell_type": "code",
   "execution_count": 7,
   "id": "59ac1ff3-3d62-425e-87bd-476c36c0d020",
   "metadata": {},
   "outputs": [
    {
     "data": {
      "text/plain": [
       "True"
      ]
     },
     "execution_count": 7,
     "metadata": {},
     "output_type": "execute_result"
    }
   ],
   "source": [
    "isPalindrome(None, 123454321)"
   ]
  },
  {
   "cell_type": "code",
   "execution_count": 8,
   "id": "739671a1-b4a4-40b0-a206-1cced9cab1e2",
   "metadata": {},
   "outputs": [
    {
     "data": {
      "text/plain": [
       "False"
      ]
     },
     "execution_count": 8,
     "metadata": {},
     "output_type": "execute_result"
    }
   ],
   "source": [
    "isPalindrome(None, -555)"
   ]
  },
  {
   "cell_type": "code",
   "execution_count": 9,
   "id": "879f64bc-8031-4d3d-99ba-b52a8c3d164a",
   "metadata": {},
   "outputs": [],
   "source": [
    "# Max Salary and max age (Tuple unpacking through functions)\n",
    "\n",
    "def max_sal_max_age(employees):\n",
    "    max_sal, max_age = 0, 0\n",
    "    for _, age, sal in employees:\n",
    "        max_sal = max(sal, max_sal)\n",
    "        max_age = max(age, max_age)\n",
    "\n",
    "    return (max_sal, max_age)"
   ]
  },
  {
   "cell_type": "code",
   "execution_count": 10,
   "id": "e06dceac-b02b-42db-8fd6-4711b854f2df",
   "metadata": {},
   "outputs": [],
   "source": [
    "max_sal, max_age = max_sal_max_age([('Ranjan', 30, 10000), ('Deepak', 35, 35000), ('Jigar', 42, 20000), ('Saikat', 38, 8000)])"
   ]
  },
  {
   "cell_type": "code",
   "execution_count": 11,
   "id": "c40d94f0-3d12-4e1d-a27e-6a121327a369",
   "metadata": {},
   "outputs": [
    {
     "data": {
      "text/plain": [
       "35000"
      ]
     },
     "execution_count": 11,
     "metadata": {},
     "output_type": "execute_result"
    }
   ],
   "source": [
    "max_sal"
   ]
  },
  {
   "cell_type": "code",
   "execution_count": 12,
   "id": "8d146478-9b56-4b30-97d2-7547664df532",
   "metadata": {},
   "outputs": [
    {
     "data": {
      "text/plain": [
       "42"
      ]
     },
     "execution_count": 12,
     "metadata": {},
     "output_type": "execute_result"
    }
   ],
   "source": [
    "max_age"
   ]
  },
  {
   "cell_type": "code",
   "execution_count": 13,
   "id": "2db4a397-762a-46b0-9f6f-0e65ba4c61c7",
   "metadata": {},
   "outputs": [],
   "source": [
    "# Sort Numbers (Bubble Sort) Multiple functions\n",
    "\n",
    "def sort(nums):\n",
    "    for i in range(len(nums) - 1):\n",
    "        for j in range(len(nums) - i - 1):\n",
    "            if nums[j] > nums[j + 1]:\n",
    "                swap(nums, j, j+1)\n",
    "        print(f'i = {i} => {nums}')\n",
    "        \n",
    "    return nums\n",
    "                \n",
    "def swap(nums, i, j):\n",
    "    temp = nums[i]\n",
    "    nums[i] = nums[j]\n",
    "    nums[j] = temp\n",
    " "
   ]
  },
  {
   "cell_type": "code",
   "execution_count": 14,
   "id": "0cda713b-1311-4306-9a74-f50514656007",
   "metadata": {},
   "outputs": [
    {
     "name": "stdout",
     "output_type": "stream",
     "text": [
      "i = 0 => [5, 4, 2, 6, 7, 1, 3, 8]\n",
      "i = 1 => [4, 2, 5, 6, 1, 3, 7, 8]\n",
      "i = 2 => [2, 4, 5, 1, 3, 6, 7, 8]\n",
      "i = 3 => [2, 4, 1, 3, 5, 6, 7, 8]\n",
      "i = 4 => [2, 1, 3, 4, 5, 6, 7, 8]\n",
      "i = 5 => [1, 2, 3, 4, 5, 6, 7, 8]\n",
      "i = 6 => [1, 2, 3, 4, 5, 6, 7, 8]\n"
     ]
    },
    {
     "data": {
      "text/plain": [
       "[1, 2, 3, 4, 5, 6, 7, 8]"
      ]
     },
     "execution_count": 14,
     "metadata": {},
     "output_type": "execute_result"
    }
   ],
   "source": [
    "sort([5,7,4,2,6,8,1,3])"
   ]
  },
  {
   "cell_type": "code",
   "execution_count": 15,
   "id": "c92922a0-8cb4-49f5-a0e0-34b10a788686",
   "metadata": {},
   "outputs": [],
   "source": [
    "# Sort Numbers (Bubble Sort) Multiple functions\n",
    "\n",
    "def merge_sort(nums):\n",
    "    return helper(nums, 0, len(nums) - 1)\n",
    "\n",
    "def helper(nums, l, r):\n",
    "    if l == r:\n",
    "        return [nums[l]]\n",
    "        \n",
    "    mid = int((l + r) / 2)\n",
    "    left = helper(nums, l, mid)\n",
    "    right = helper(nums, mid + 1, r)\n",
    "    \n",
    "    return merge(left, right)\n",
    "                \n",
    "def merge(l1, l2):\n",
    "    result = list()\n",
    "    i = j = 0\n",
    "    \n",
    "    while i < len(l1) and j < len(l2):\n",
    "        if l1[i] < l2[j]:\n",
    "            result.append(l1[i])\n",
    "            i += 1\n",
    "        else:\n",
    "            result.append(l2[j])\n",
    "            j += 1\n",
    "\n",
    "    while i < len(l1):\n",
    "        result.append(l1[i])\n",
    "        i += 1\n",
    "        \n",
    "    while j < len(l2):\n",
    "        result.append(l2[j])\n",
    "        j += 1\n",
    "\n",
    "    return result\n"
   ]
  },
  {
   "cell_type": "code",
   "execution_count": 16,
   "id": "9169e40e-93bd-4fd7-9181-b05ea3ae652e",
   "metadata": {},
   "outputs": [
    {
     "data": {
      "text/plain": [
       "[1, 2, 3, 4, 5, 6, 7, 8]"
      ]
     },
     "execution_count": 16,
     "metadata": {},
     "output_type": "execute_result"
    }
   ],
   "source": [
    "merge_sort([5,7,4,2,6,8,1,3])"
   ]
  },
  {
   "cell_type": "code",
   "execution_count": 42,
   "id": "b6ba0366-d833-4e30-9208-a2e8be796b5c",
   "metadata": {},
   "outputs": [],
   "source": [
    "# Inner Functions\n",
    "\n",
    "def func(name='Ranjan'):\n",
    "    print('func() called')\n",
    "\n",
    "    def hello():\n",
    "        return f'Hello {name}'\n",
    "\n",
    "    return hello\n"
   ]
  },
  {
   "cell_type": "code",
   "execution_count": 43,
   "id": "362d9e51-f8e0-4c65-8d14-8c9cdde4784e",
   "metadata": {},
   "outputs": [
    {
     "name": "stdout",
     "output_type": "stream",
     "text": [
      "func() called\n"
     ]
    },
    {
     "data": {
      "text/plain": [
       "'Hello Deepak'"
      ]
     },
     "execution_count": 43,
     "metadata": {},
     "output_type": "execute_result"
    }
   ],
   "source": [
    "func('Deepak')()"
   ]
  },
  {
   "cell_type": "code",
   "execution_count": 62,
   "id": "ed5c2ac0-1e5f-4f94-9934-75af06d361d7",
   "metadata": {},
   "outputs": [],
   "source": [
    "# Function as Argument / Lambda\n",
    "\n",
    "def str_to_list(str, decor_fn):\n",
    "    print(f'String to list : {str}')\n",
    "    return list(map(decor_fn, str.split()))\n",
    "    "
   ]
  },
  {
   "cell_type": "code",
   "execution_count": 63,
   "id": "72fce444-01fe-4b25-9028-d25ee3209173",
   "metadata": {},
   "outputs": [
    {
     "name": "stdout",
     "output_type": "stream",
     "text": [
      "String to list : this is ranjan\n"
     ]
    },
    {
     "data": {
      "text/plain": [
       "['THIS', 'IS', 'RANJAN']"
      ]
     },
     "execution_count": 63,
     "metadata": {},
     "output_type": "execute_result"
    }
   ],
   "source": [
    "str_to_list('this is ranjan', lambda a: a.upper())"
   ]
  },
  {
   "cell_type": "code",
   "execution_count": 17,
   "id": "a137014a-12db-4e4c-b4d7-1b743a0a38b9",
   "metadata": {},
   "outputs": [],
   "source": [
    "# *args (Arguments)\n",
    "\n",
    "def add_numbers(*args):\n",
    "    return sum(args)"
   ]
  },
  {
   "cell_type": "code",
   "execution_count": 18,
   "id": "8a4cd27a-8943-4354-857e-98a2a8560b24",
   "metadata": {},
   "outputs": [
    {
     "data": {
      "text/plain": [
       "100.5"
      ]
     },
     "execution_count": 18,
     "metadata": {},
     "output_type": "execute_result"
    }
   ],
   "source": [
    "add_numbers(10, 20, 30.3, 40.2)"
   ]
  },
  {
   "cell_type": "code",
   "execution_count": 19,
   "id": "ebb300f6-8a51-44e1-a7a9-4e6400999bef",
   "metadata": {},
   "outputs": [],
   "source": [
    "# **kwargs (Keyword Arguments)\n",
    "\n",
    "def say_hello(**kwargs):\n",
    "    if 'name' in kwargs:\n",
    "        print(f'Hello {kwargs[\"name\"]}!')\n",
    "    if 'age' in kwargs:\n",
    "        print(f'You are {kwargs[\"age\"]} years old')"
   ]
  },
  {
   "cell_type": "code",
   "execution_count": 20,
   "id": "13603e13-2939-4df9-914f-11a6487f9cf8",
   "metadata": {},
   "outputs": [
    {
     "name": "stdout",
     "output_type": "stream",
     "text": [
      "Hello Ranjan!\n",
      "You are 30 years old\n"
     ]
    }
   ],
   "source": [
    "say_hello(name='Ranjan', age = 30)"
   ]
  },
  {
   "cell_type": "code",
   "execution_count": 21,
   "id": "56a56dde-41dc-4140-a360-235488a101dd",
   "metadata": {},
   "outputs": [
    {
     "name": "stdout",
     "output_type": "stream",
     "text": [
      "Hello Ranjan!\n"
     ]
    }
   ],
   "source": [
    "say_hello(name='Ranjan')"
   ]
  },
  {
   "cell_type": "code",
   "execution_count": 22,
   "id": "1568b590-2f33-4d7e-90de-b6ed1d68c4af",
   "metadata": {},
   "outputs": [],
   "source": [
    "def hello():\n",
    "    return 'Ranjan', 100"
   ]
  },
  {
   "cell_type": "code",
   "execution_count": 23,
   "id": "4bfeece3-2eee-40ef-a009-81e0760f2b71",
   "metadata": {},
   "outputs": [
    {
     "data": {
      "text/plain": [
       "('Ranjan', 100)"
      ]
     },
     "execution_count": 23,
     "metadata": {},
     "output_type": "execute_result"
    }
   ],
   "source": [
    "hello()"
   ]
  },
  {
   "cell_type": "code",
   "execution_count": null,
   "id": "02ecc016-dd0e-4490-92fe-863967aaf2ab",
   "metadata": {},
   "outputs": [],
   "source": []
  }
 ],
 "metadata": {
  "kernelspec": {
   "display_name": "Python 3 (ipykernel)",
   "language": "python",
   "name": "python3"
  },
  "language_info": {
   "codemirror_mode": {
    "name": "ipython",
    "version": 3
   },
   "file_extension": ".py",
   "mimetype": "text/x-python",
   "name": "python",
   "nbconvert_exporter": "python",
   "pygments_lexer": "ipython3",
   "version": "3.11.7"
  }
 },
 "nbformat": 4,
 "nbformat_minor": 5
}
