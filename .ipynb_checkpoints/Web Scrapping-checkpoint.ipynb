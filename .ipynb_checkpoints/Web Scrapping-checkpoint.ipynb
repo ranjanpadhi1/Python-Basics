{
 "cells": [
  {
   "cell_type": "code",
   "execution_count": 1,
   "id": "e5cbca4f-45ce-4f2d-8a36-80fbaeceb019",
   "metadata": {},
   "outputs": [],
   "source": [
    "# Web scrapping - Reading Stock data from Groww\n",
    "\n",
    "import requests\n",
    "from bs4 import BeautifulSoup\n",
    "\n",
    "def stock_data(url):\n",
    "    res = requests.get(url)\n",
    "    dom = BeautifulSoup(res.text, 'lxml')\n",
    "    items = list(map(lambda i: i.text, list(filter(lambda i: i.text, dom.select('table:nth-child(1) tr td')))))\n",
    "    return dict(zip(items[0::2], items[1::2]))"
   ]
  },
  {
   "cell_type": "code",
   "execution_count": 2,
   "id": "dace2701-69be-4729-b91a-5890dde32f82",
   "metadata": {},
   "outputs": [
    {
     "data": {
      "text/plain": [
       "{'Market Cap': '₹1,40,531Cr',\n",
       " 'ROE': '11.42%',\n",
       " 'P/E Ratio(TTM)': '38.01',\n",
       " 'EPS(TTM)': '11.57',\n",
       " 'P/B Ratio': '4.34',\n",
       " 'Dividend Yield': '0.45%',\n",
       " 'Industry P/E': '25.36',\n",
       " 'Book Value': '101.26',\n",
       " 'Debt to Equity': '1.66',\n",
       " 'Face Value': '1',\n",
       " 'Parent Organisation': 'The Tata Power Company',\n",
       " 'Managing Director': 'Dr. Praveer Sinha',\n",
       " 'Quant Infrastructure Fund Direct Growth': '8.31%',\n",
       " 'Quant Focused Fund Direct Growth': '8.30%',\n",
       " 'Quant Absolute Fund Direct Growth': '5.62%',\n",
       " 'Baroda BNP Paribas Focused Fund Direct Growth': '4.74%',\n",
       " 'NTPC': 'NA(0.00%)',\n",
       " '17.70': 'Power Grid Corporation of India',\n",
       " 'NA(0.00%)': '13.13',\n",
       " 'Adani Green Energy': 'NA(0.00%)',\n",
       " '252.76': 'Adani Power'}"
      ]
     },
     "execution_count": 2,
     "metadata": {},
     "output_type": "execute_result"
    }
   ],
   "source": [
    "stock_data('https://groww.in/stocks/tata-power-company-ltd')"
   ]
  },
  {
   "cell_type": "code",
   "execution_count": 3,
   "id": "a786c98f-5010-414c-bc35-35bc5287f546",
   "metadata": {},
   "outputs": [],
   "source": [
    "# Web scrapping - Reading Stock data from Screener\n",
    "\n",
    "import requests\n",
    "from bs4 import BeautifulSoup\n",
    "import json\n",
    "\n",
    "def get_data(tickers):\n",
    "    rows = list()\n",
    "    for ticker in tickers:\n",
    "        res = requests.get(f'https://www.screener.in/company/{ticker}')\n",
    "        dom = BeautifulSoup(res.text, 'lxml')\n",
    "        items = list(map(lambda i: i.text.replace('\\n', '').replace(' ', ''), list(filter(lambda i: i.text ,dom.select('.company-ratios ul li > span')))))\n",
    "        data = dict(zip(items[0::2], items[1::2]))\n",
    "        data['ticker'] = ticker\n",
    "        data['name'] = dom.select('h1')[0].text\n",
    "        rows.append(data)\n",
    "    return rows\n",
    "    "
   ]
  },
  {
   "cell_type": "code",
   "execution_count": 4,
   "id": "16bbff9d-39f5-4a24-92c3-4b698f9570a1",
   "metadata": {},
   "outputs": [
    {
     "data": {
      "text/plain": [
       "[{'MarketCap': '₹2,36,873Cr.',\n",
       "  'CurrentPrice': '₹324',\n",
       "  'High/Low': '₹327/122',\n",
       "  'StockP/E': '58.9',\n",
       "  'BookValue': '₹22.0',\n",
       "  'DividendYield': '0.56%',\n",
       "  'ROCE': '35.9%',\n",
       "  'ROE': '27.1%',\n",
       "  'FaceValue': '₹1.00',\n",
       "  'ticker': 'BEL',\n",
       "  'name': 'Bharat Electronics Ltd'},\n",
       " {'MarketCap': '₹21,070Cr.',\n",
       "  'CurrentPrice': '₹5,060',\n",
       "  'High/Low': '₹5,489/1,543',\n",
       "  'StockP/E': '74.4',\n",
       "  'BookValue': '₹635',\n",
       "  'DividendYield': '0.20%',\n",
       "  'ROCE': '15.4%',\n",
       "  'ROE': '11.2%',\n",
       "  'FaceValue': '₹10.0',\n",
       "  'ticker': 'BEML',\n",
       "  'name': 'BEML Ltd'},\n",
       " {'MarketCap': '₹3,71,304Cr.',\n",
       "  'CurrentPrice': '₹5,552',\n",
       "  'High/Low': '₹5,625/1,768',\n",
       "  'StockP/E': '48.9',\n",
       "  'BookValue': '₹434',\n",
       "  'DividendYield': '0.63%',\n",
       "  'ROCE': '38.9%',\n",
       "  'ROE': '28.9%',\n",
       "  'FaceValue': '₹5.00',\n",
       "  'ticker': 'HAL',\n",
       "  'name': 'Hindustan Aeronautics Ltd'},\n",
       " {'MarketCap': '₹2,45,988Cr.',\n",
       "  'CurrentPrice': '₹188',\n",
       "  'High/Low': '₹200/32.4',\n",
       "  'StockP/E': '38.4',\n",
       "  'BookValue': '₹37.6',\n",
       "  'DividendYield': '0.80%',\n",
       "  'ROCE': '5.73%',\n",
       "  'ROE': '13.6%',\n",
       "  'FaceValue': '₹10.0',\n",
       "  'ticker': 'IRFC',\n",
       "  'name': 'Indian Railway Finance Corporation Ltd'},\n",
       " {'MarketCap': '₹1,02,385Cr.',\n",
       "  'CurrentPrice': '₹491',\n",
       "  'High/Low': '₹498/117',\n",
       "  'StockP/E': '70.0',\n",
       "  'BookValue': '₹37.7',\n",
       "  'DividendYield': '0.43%',\n",
       "  'ROCE': '18.7%',\n",
       "  'ROE': '20.4%',\n",
       "  'FaceValue': '₹10.0',\n",
       "  'ticker': 'RVNL',\n",
       "  'name': 'Rail Vikas Nigam Ltd'}]"
      ]
     },
     "execution_count": 4,
     "metadata": {},
     "output_type": "execute_result"
    }
   ],
   "source": [
    "get_data(tickers = ['BEL','BEML','HAL','IRFC','RVNL'])"
   ]
  },
  {
   "cell_type": "code",
   "execution_count": null,
   "id": "64a89197-25ec-4556-b28d-044bd6f12068",
   "metadata": {},
   "outputs": [],
   "source": []
  }
 ],
 "metadata": {
  "kernelspec": {
   "display_name": "Python 3 (ipykernel)",
   "language": "python",
   "name": "python3"
  },
  "language_info": {
   "codemirror_mode": {
    "name": "ipython",
    "version": 3
   },
   "file_extension": ".py",
   "mimetype": "text/x-python",
   "name": "python",
   "nbconvert_exporter": "python",
   "pygments_lexer": "ipython3",
   "version": "3.11.7"
  }
 },
 "nbformat": 4,
 "nbformat_minor": 5
}
