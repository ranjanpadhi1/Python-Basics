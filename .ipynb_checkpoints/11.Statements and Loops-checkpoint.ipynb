{
 "cells": [
  {
   "cell_type": "code",
   "execution_count": 1,
   "id": "dca0a62b-2145-4a52-830c-9557d9197a81",
   "metadata": {},
   "outputs": [],
   "source": [
    "# if else"
   ]
  },
  {
   "cell_type": "code",
   "execution_count": 4,
   "id": "f1d70013-b467-49b9-b1c9-5079b81461e6",
   "metadata": {},
   "outputs": [
    {
     "name": "stdout",
     "output_type": "stream",
     "text": [
      "Less than or equal 10\n"
     ]
    }
   ],
   "source": [
    "num = 10\n",
    "\n",
    "if num > 10:\n",
    "    print('Greater than 10')\n",
    "else:\n",
    "    print('Less than or equal 10')"
   ]
  },
  {
   "cell_type": "code",
   "execution_count": 5,
   "id": "c3e05d38-2aa6-4f6f-b0f7-bdf6df12bb6a",
   "metadata": {},
   "outputs": [
    {
     "name": "stdout",
     "output_type": "stream",
     "text": [
      "Equal to 10\n"
     ]
    }
   ],
   "source": [
    "if num < 10:\n",
    "    print('Less than 10')\n",
    "elif num > 10:\n",
    "    print('Greater than 10')\n",
    "else:\n",
    "    print('Equal to 10')"
   ]
  },
  {
   "cell_type": "code",
   "execution_count": 6,
   "id": "5de96dc3-b189-460c-973f-277f9e45a276",
   "metadata": {},
   "outputs": [],
   "source": [
    "# For loops"
   ]
  },
  {
   "cell_type": "code",
   "execution_count": 8,
   "id": "53db79f3-fbb5-4789-b4cf-981505ca4ef6",
   "metadata": {},
   "outputs": [
    {
     "name": "stdout",
     "output_type": "stream",
     "text": [
      "h\n",
      "e\n",
      "l\n",
      "l\n",
      "o\n"
     ]
    }
   ],
   "source": [
    "for char in 'hello':\n",
    "    print(char)"
   ]
  },
  {
   "cell_type": "code",
   "execution_count": 15,
   "id": "e7364898-e5f3-499a-ba46-a7cc23abbdf0",
   "metadata": {},
   "outputs": [
    {
     "data": {
      "text/plain": [
       "15"
      ]
     },
     "execution_count": 15,
     "metadata": {},
     "output_type": "execute_result"
    }
   ],
   "source": [
    "my_list = [1, 2, 3, 4, 5]\n",
    "sum = 0\n",
    "\n",
    "for val in my_list:\n",
    "    sum += val\n",
    "\n",
    "sum"
   ]
  },
  {
   "cell_type": "code",
   "execution_count": 19,
   "id": "7f77ac26-62df-4f9e-994b-29fb60281940",
   "metadata": {},
   "outputs": [
    {
     "name": "stdout",
     "output_type": "stream",
     "text": [
      "1 is odd\n",
      "3 is odd\n",
      "4 is even\n",
      "5 is odd\n",
      "9 is odd\n",
      "10 is even\n",
      "12 is even\n"
     ]
    }
   ],
   "source": [
    "my_list = [1, 3, 4, 5, 9, 10, 12]\n",
    "\n",
    "for val in my_list:\n",
    "    if val % 2 == 0:\n",
    "        print(f'{val} is even')\n",
    "    else:\n",
    "        print(f'{val} is odd')"
   ]
  },
  {
   "cell_type": "code",
   "execution_count": 31,
   "id": "4c129568-174d-404e-b649-456cbfe214e7",
   "metadata": {},
   "outputs": [
    {
     "name": "stdout",
     "output_type": "stream",
     "text": [
      "[1, 3, 5, 9]\n",
      "[4, 10, 12]\n"
     ]
    }
   ],
   "source": [
    "my_list = [1, 3, 4, 5, 9, 10, 12]\n",
    "odds = list() \n",
    "evens = list()\n",
    "\n",
    "for val in my_list:\n",
    "    if val % 2 == 0:\n",
    "        evens.append(val)\n",
    "    else:\n",
    "        odds.append(val)\n",
    "\n",
    "print(odds)\n",
    "print(evens)"
   ]
  },
  {
   "cell_type": "code",
   "execution_count": 29,
   "id": "79f5fad3-c79a-481e-9384-5c6a024c1b22",
   "metadata": {},
   "outputs": [
    {
     "name": "stdout",
     "output_type": "stream",
     "text": [
      "1 ... 2\n",
      "3 ... 4\n",
      "5 ... 6\n",
      "7 ... 8\n"
     ]
    }
   ],
   "source": [
    "#Tuple unpacking\n",
    "my_list = [(1,2),(3,4),(5,6),(7,8)]\n",
    "\n",
    "for a, b in my_list:\n",
    "    print(f'{a} ... {b})"
   ]
  },
  {
   "cell_type": "code",
   "execution_count": 32,
   "id": "40cf44b8-9688-41db-9004-8032353ab089",
   "metadata": {},
   "outputs": [
    {
     "name": "stdout",
     "output_type": "stream",
     "text": [
      "k1\n",
      "k2\n",
      "k3\n"
     ]
    }
   ],
   "source": [
    "# Dictionary\n",
    "dict = {'k1': 10, 'k2': 20, 'k3': 30}\n",
    "\n",
    "for key in dict:\n",
    "    print(key)"
   ]
  },
  {
   "cell_type": "code",
   "execution_count": 33,
   "id": "051e6cda-986e-4a46-a01a-91e0bdc2111f",
   "metadata": {},
   "outputs": [
    {
     "name": "stdout",
     "output_type": "stream",
     "text": [
      "k1 ... 10\n",
      "k2 ... 20\n",
      "k3 ... 30\n"
     ]
    }
   ],
   "source": [
    "# Dictionary unpacking\n",
    "dict = {'k1': 10, 'k2': 20, 'k3': 30}\n",
    "\n",
    "for key,value in dict.items():\n",
    "    print(f'{key} ... {value}')"
   ]
  },
  {
   "cell_type": "code",
   "execution_count": 40,
   "id": "3d4adfd0-5c21-4ce3-8e84-3a563ebce304",
   "metadata": {},
   "outputs": [
    {
     "name": "stdout",
     "output_type": "stream",
     "text": [
      "1\n",
      "2\n",
      "3\n",
      "4\n",
      "5\n",
      "Done!\n"
     ]
    }
   ],
   "source": [
    "# While loops\n",
    "num = 1\n",
    "\n",
    "while num <= 5:\n",
    "    print(num)\n",
    "    num += 1\n",
    "else:\n",
    "    print('Done!')"
   ]
  },
  {
   "cell_type": "code",
   "execution_count": 9,
   "id": "3141bc22-35a2-4fe5-80b2-f0863327c2e7",
   "metadata": {},
   "outputs": [],
   "source": [
    "# Range function"
   ]
  },
  {
   "cell_type": "code",
   "execution_count": 7,
   "id": "2ebd5ac1-e8e2-4d49-b9e0-a3fe97fb346a",
   "metadata": {},
   "outputs": [
    {
     "name": "stdout",
     "output_type": "stream",
     "text": [
      "0\n",
      "1\n",
      "2\n",
      "3\n",
      "4\n"
     ]
    }
   ],
   "source": [
    "for num in range(5):\n",
    "    print(num)"
   ]
  },
  {
   "cell_type": "code",
   "execution_count": 4,
   "id": "e30de5d3-cfc3-4cc3-ae3f-6f2f91484a2b",
   "metadata": {},
   "outputs": [
    {
     "name": "stdout",
     "output_type": "stream",
     "text": [
      "5\n",
      "6\n",
      "7\n",
      "8\n",
      "9\n"
     ]
    }
   ],
   "source": [
    "for num in range(5,10):\n",
    "    print(num)"
   ]
  },
  {
   "cell_type": "code",
   "execution_count": 5,
   "id": "6e2e3f12-916d-43ac-b48b-7e7a14ff449c",
   "metadata": {},
   "outputs": [
    {
     "name": "stdout",
     "output_type": "stream",
     "text": [
      "5\n",
      "7\n",
      "9\n"
     ]
    }
   ],
   "source": [
    "for num in range(5,10,2):\n",
    "    print(num)"
   ]
  },
  {
   "cell_type": "code",
   "execution_count": 6,
   "id": "490acb38-c1f0-410c-8de4-1ecb045a7de5",
   "metadata": {},
   "outputs": [
    {
     "data": {
      "text/plain": [
       "[0, 1, 2, 3, 4, 5, 6, 7, 8, 9]"
      ]
     },
     "execution_count": 6,
     "metadata": {},
     "output_type": "execute_result"
    }
   ],
   "source": [
    "list(range(10))"
   ]
  },
  {
   "cell_type": "code",
   "execution_count": 10,
   "id": "59cc0c23-4336-4e0f-ad37-c066b6d32b3f",
   "metadata": {},
   "outputs": [],
   "source": [
    "# Enumerate function"
   ]
  },
  {
   "cell_type": "code",
   "execution_count": 11,
   "id": "736dea2c-a977-4a81-919c-ebed7faad517",
   "metadata": {},
   "outputs": [
    {
     "name": "stdout",
     "output_type": "stream",
     "text": [
      "(0, 'a')\n",
      "(1, 'b')\n",
      "(2, 'c')\n",
      "(3, 'd')\n",
      "(4, 'e')\n"
     ]
    }
   ],
   "source": [
    "word = 'abcde'\n",
    "for item in enumerate(word):\n",
    "    print(item)"
   ]
  },
  {
   "cell_type": "code",
   "execution_count": 12,
   "id": "831ce365-9bc9-45a1-a072-88c6c8ffb66f",
   "metadata": {},
   "outputs": [
    {
     "name": "stdout",
     "output_type": "stream",
     "text": [
      "0 ... a\n",
      "1 ... b\n",
      "2 ... c\n",
      "3 ... d\n",
      "4 ... e\n"
     ]
    }
   ],
   "source": [
    "word = 'abcde'\n",
    "for i, val in enumerate(word):\n",
    "    print(f'{i} ... {val}')"
   ]
  },
  {
   "cell_type": "code",
   "execution_count": null,
   "id": "4cbd37ef-33c5-4150-84c3-4292397cae21",
   "metadata": {},
   "outputs": [],
   "source": []
  }
 ],
 "metadata": {
  "kernelspec": {
   "display_name": "Python 3 (ipykernel)",
   "language": "python",
   "name": "python3"
  },
  "language_info": {
   "codemirror_mode": {
    "name": "ipython",
    "version": 3
   },
   "file_extension": ".py",
   "mimetype": "text/x-python",
   "name": "python",
   "nbconvert_exporter": "python",
   "pygments_lexer": "ipython3",
   "version": "3.11.7"
  }
 },
 "nbformat": 4,
 "nbformat_minor": 5
}
