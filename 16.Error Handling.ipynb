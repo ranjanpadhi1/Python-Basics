{
 "cells": [
  {
   "cell_type": "code",
   "execution_count": 13,
   "id": "a68551fa-af28-41b6-b392-25ce4e5de574",
   "metadata": {},
   "outputs": [
    {
     "name": "stdout",
     "output_type": "stream",
     "text": [
      "Error opening file\n",
      "Finally!\n"
     ]
    }
   ],
   "source": [
    "# Error Handling\n",
    "\n",
    "try:\n",
    "    open('abc.txt')\n",
    "except OSError:\n",
    "    print('Error opening file')\n",
    "finally:\n",
    "    print('Finally!')\n"
   ]
  },
  {
   "cell_type": "code",
   "execution_count": 14,
   "id": "769edda3-cf3e-44ff-a74c-d1458aa8e0c1",
   "metadata": {},
   "outputs": [
    {
     "name": "stdout",
     "output_type": "stream",
     "text": [
      "Some other error\n",
      "Finally!\n"
     ]
    }
   ],
   "source": [
    "# Error Handling\n",
    "\n",
    "try:\n",
    "    open('abc.txt')\n",
    "except TypeError:\n",
    "    print('Error opening file')\n",
    "except:\n",
    "    print('Some other error')\n",
    "finally:\n",
    "    print('Finally!')\n"
   ]
  },
  {
   "cell_type": "code",
   "execution_count": null,
   "id": "4020d6a9-36af-4982-984f-674f9f5254a6",
   "metadata": {},
   "outputs": [],
   "source": []
  }
 ],
 "metadata": {
  "kernelspec": {
   "display_name": "Python 3 (ipykernel)",
   "language": "python",
   "name": "python3"
  },
  "language_info": {
   "codemirror_mode": {
    "name": "ipython",
    "version": 3
   },
   "file_extension": ".py",
   "mimetype": "text/x-python",
   "name": "python",
   "nbconvert_exporter": "python",
   "pygments_lexer": "ipython3",
   "version": "3.11.7"
  }
 },
 "nbformat": 4,
 "nbformat_minor": 5
}
