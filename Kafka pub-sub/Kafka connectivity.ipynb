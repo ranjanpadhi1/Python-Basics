{
 "cells": [
  {
   "cell_type": "code",
   "execution_count": 1,
   "id": "2601282f-96d5-4500-bb96-3872a8d6e80f",
   "metadata": {},
   "outputs": [],
   "source": [
    "from confluent_kafka import Producer, Consumer\n",
    "import socket\n",
    "\n",
    "conf = {'bootstrap.servers': '172.20.112.72:9092',\n",
    "        'client.id': socket.gethostname()}\n",
    "\n",
    "producer = Producer(conf)\n"
   ]
  },
  {
   "cell_type": "code",
   "execution_count": 2,
   "id": "25f468d5-af1a-485b-91f3-88cff4c9e07a",
   "metadata": {},
   "outputs": [],
   "source": [
    "def acked(err, msg):\n",
    "    if err is not None:\n",
    "        print(\"Failed to deliver message: %s: %s\" % (str(msg), str(err)))\n",
    "    else:\n",
    "        print(\"Message produced: %s\" % (str(msg)))\n",
    "\n",
    "producer.produce('my-topic', key=\"key\", value=\"value\", callback=acked)"
   ]
  },
  {
   "cell_type": "code",
   "execution_count": null,
   "id": "361fbd7b-3d0e-4fda-846b-4e41c20f6e95",
   "metadata": {},
   "outputs": [],
   "source": []
  }
 ],
 "metadata": {
  "kernelspec": {
   "display_name": "Python 3 (ipykernel)",
   "language": "python",
   "name": "python3"
  },
  "language_info": {
   "codemirror_mode": {
    "name": "ipython",
    "version": 3
   },
   "file_extension": ".py",
   "mimetype": "text/x-python",
   "name": "python",
   "nbconvert_exporter": "python",
   "pygments_lexer": "ipython3",
   "version": "3.11.7"
  }
 },
 "nbformat": 4,
 "nbformat_minor": 5
}
