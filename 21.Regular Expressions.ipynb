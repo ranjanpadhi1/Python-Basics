{
 "cells": [
  {
   "cell_type": "code",
   "execution_count": 31,
   "id": "ef0086d4-d380-4c32-bd18-d4a539f8bb4d",
   "metadata": {},
   "outputs": [
    {
     "data": {
      "text/plain": [
       "True"
      ]
     },
     "execution_count": 31,
     "metadata": {},
     "output_type": "execute_result"
    }
   ],
   "source": [
    "# Search patterns\n",
    "\n",
    "text = \"This is agents's phone number +555-666-7777 and +123-456-7899. Call Soon!\"\n",
    "\n",
    "'phone' in text"
   ]
  },
  {
   "cell_type": "code",
   "execution_count": 32,
   "id": "f4eaf72a-d3e8-44be-8a45-772c6e192443",
   "metadata": {},
   "outputs": [],
   "source": [
    "# Using Regex\n",
    "import re\n",
    "\n",
    "match = re.search('phone', text)"
   ]
  },
  {
   "cell_type": "code",
   "execution_count": 14,
   "id": "e4542c4d-2530-41dc-b012-b76bc06e446b",
   "metadata": {},
   "outputs": [
    {
     "data": {
      "text/plain": [
       "17"
      ]
     },
     "execution_count": 14,
     "metadata": {},
     "output_type": "execute_result"
    }
   ],
   "source": [
    "match.start()"
   ]
  },
  {
   "cell_type": "code",
   "execution_count": 15,
   "id": "9e8ec3cf-c161-4bf4-b135-b12f61ff30d7",
   "metadata": {},
   "outputs": [
    {
     "data": {
      "text/plain": [
       "22"
      ]
     },
     "execution_count": 15,
     "metadata": {},
     "output_type": "execute_result"
    }
   ],
   "source": [
    "match.end()"
   ]
  },
  {
   "cell_type": "code",
   "execution_count": 36,
   "id": "0c11aae2-af11-46b3-80a1-8a67fbb3cf67",
   "metadata": {},
   "outputs": [
    {
     "data": {
      "text/plain": [
       "<re.Match object; span=(30, 43), match='+555-666-7777'>"
      ]
     },
     "execution_count": 36,
     "metadata": {},
     "output_type": "execute_result"
    }
   ],
   "source": [
    "re.search(r'\\+\\d{3}-\\d{3}-\\d{4}', text)"
   ]
  },
  {
   "cell_type": "code",
   "execution_count": 37,
   "id": "d27eb8c6-6f99-4cc0-89a2-19a93a2b5a87",
   "metadata": {},
   "outputs": [
    {
     "data": {
      "text/plain": [
       "['+555-666-7777', '+123-456-7899']"
      ]
     },
     "execution_count": 37,
     "metadata": {},
     "output_type": "execute_result"
    }
   ],
   "source": [
    "re.findall(r'\\+\\d{3}-\\d{3}-\\d{4}', text)"
   ]
  },
  {
   "cell_type": "code",
   "execution_count": 38,
   "id": "4fcc46a3-6136-4493-a8ba-421b6d26f827",
   "metadata": {},
   "outputs": [
    {
     "name": "stdout",
     "output_type": "stream",
     "text": [
      "<re.Match object; span=(30, 43), match='+555-666-7777'>\n",
      "<re.Match object; span=(48, 61), match='+123-456-7899'>\n"
     ]
    }
   ],
   "source": [
    "# Iterate through all matches\n",
    "\n",
    "for match in re.finditer(r'\\+\\d{3}-\\d{3}-\\d{4}', text):\n",
    "    print(match)"
   ]
  },
  {
   "cell_type": "code",
   "execution_count": 39,
   "id": "c585c62c-5b46-483d-b1ae-d8f76e9a4ed3",
   "metadata": {},
   "outputs": [
    {
     "name": "stdout",
     "output_type": "stream",
     "text": [
      "+555-666-7777\n",
      "+123-456-7899\n"
     ]
    }
   ],
   "source": [
    "for match in re.finditer(r'\\+\\d{3}-\\d{3}-\\d{4}', text):\n",
    "    print(match.group())"
   ]
  },
  {
   "cell_type": "code",
   "execution_count": 40,
   "id": "a756f195-ffae-4a42-b03d-7a0775717993",
   "metadata": {},
   "outputs": [],
   "source": [
    "# Pattern Compile to divide into groups\n",
    "\n",
    "pattern = re.compile(r'(\\+\\d{3})-(\\d{3})-(\\d{4})')"
   ]
  },
  {
   "cell_type": "code",
   "execution_count": 44,
   "id": "86ced924-2d75-42b2-b6a7-69dcc6a6c4bc",
   "metadata": {},
   "outputs": [
    {
     "name": "stdout",
     "output_type": "stream",
     "text": [
      "\n",
      "Country code : +555\n",
      "Network code : 666\n",
      "Number : 7777\n",
      "\n",
      "Country code : +123\n",
      "Network code : 456\n",
      "Number : 7899\n"
     ]
    }
   ],
   "source": [
    "for match in pattern.finditer(text):\n",
    "    print('')\n",
    "    for i, group in enumerate(match.groups()):\n",
    "        if i == 0:\n",
    "            print(f'Country code : {group}')\n",
    "        elif i == 1:\n",
    "            print(f'Network code : {group}')\n",
    "        else:\n",
    "            print(f'Number : {group}')"
   ]
  },
  {
   "cell_type": "code",
   "execution_count": 67,
   "id": "5f0028be-402f-4485-be2c-42745ad7bbf9",
   "metadata": {},
   "outputs": [
    {
     "data": {
      "text/plain": [
       "['cat', 'hat', ' at', 'lat']"
      ]
     },
     "execution_count": 67,
     "metadata": {},
     "output_type": "execute_result"
    }
   ],
   "source": [
    "# DOT Wildcard . Single character match\n",
    "\n",
    "re.findall(r'.at', 'The cat wear red hat at splat')"
   ]
  },
  {
   "cell_type": "code",
   "execution_count": 68,
   "id": "3796b5bf-739e-4a1b-941b-bd52abc9e665",
   "metadata": {},
   "outputs": [
    {
     "data": {
      "text/plain": [
       "['cat', 'hat', 'at', 'splat']"
      ]
     },
     "execution_count": 68,
     "metadata": {},
     "output_type": "execute_result"
    }
   ],
   "source": [
    "# STAR * - 0 or more match of a specific pattern/char\n",
    "\n",
    "re.findall(r'\\S*at', 'The cat wear red hat at splat')"
   ]
  },
  {
   "cell_type": "code",
   "execution_count": 69,
   "id": "b1a6707f-21e9-406d-8dd2-73dc5b5a7f90",
   "metadata": {},
   "outputs": [
    {
     "data": {
      "text/plain": [
       "['cat', 'hat', 'splat']"
      ]
     },
     "execution_count": 69,
     "metadata": {},
     "output_type": "execute_result"
    }
   ],
   "source": [
    "# PLUS + - 1 or more match of a specific pattern/char\n",
    "\n",
    "re.findall(r'\\S+at', 'The cat wear red hat at splat')"
   ]
  },
  {
   "cell_type": "code",
   "execution_count": 89,
   "id": "35ea90c5-9767-41dc-b045-4b64126400b9",
   "metadata": {},
   "outputs": [
    {
     "name": "stdout",
     "output_type": "stream",
     "text": [
      "['T', 'h', 'e']\n",
      "['c']\n",
      "['w', 'e', 'r']\n",
      "['r', 'e', 'd']\n",
      "['h']\n",
      "[]\n",
      "['s', 'p', 'l']\n"
     ]
    }
   ],
   "source": [
    "# Words not ending with *at\n",
    "\n",
    "for word in 'The cat wear red hat at splat'.split():\n",
    "    print(re.findall(r'[^at]', word))"
   ]
  },
  {
   "cell_type": "code",
   "execution_count": null,
   "id": "a04dd876-2438-4ce9-b12d-7951435a2ae1",
   "metadata": {},
   "outputs": [],
   "source": []
  }
 ],
 "metadata": {
  "kernelspec": {
   "display_name": "Python 3 (ipykernel)",
   "language": "python",
   "name": "python3"
  },
  "language_info": {
   "codemirror_mode": {
    "name": "ipython",
    "version": 3
   },
   "file_extension": ".py",
   "mimetype": "text/x-python",
   "name": "python",
   "nbconvert_exporter": "python",
   "pygments_lexer": "ipython3",
   "version": "3.11.7"
  }
 },
 "nbformat": 4,
 "nbformat_minor": 5
}
