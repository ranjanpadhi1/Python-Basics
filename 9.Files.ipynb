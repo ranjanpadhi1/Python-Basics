{
 "cells": [
  {
   "cell_type": "code",
   "execution_count": 1,
   "id": "39d00a13-5459-4172-b525-8a9c487f9eac",
   "metadata": {},
   "outputs": [
    {
     "name": "stdout",
     "output_type": "stream",
     "text": [
      "Overwriting myfile.txt\n"
     ]
    }
   ],
   "source": [
    "%%writefile myfile.txt\n",
    "Hi, this is a text file\n",
    "this is second line\n",
    "this is third line"
   ]
  },
  {
   "cell_type": "code",
   "execution_count": 2,
   "id": "7ee02cbf-2282-47d1-89ec-2aea6af3a86f",
   "metadata": {},
   "outputs": [],
   "source": [
    "my_file = open('myfile.txt')"
   ]
  },
  {
   "cell_type": "code",
   "execution_count": 3,
   "id": "ed2fc450-2d9a-4655-bfd7-6f88d7679d74",
   "metadata": {},
   "outputs": [
    {
     "data": {
      "text/plain": [
       "'Hi, this is a text file\\n'"
      ]
     },
     "execution_count": 3,
     "metadata": {},
     "output_type": "execute_result"
    }
   ],
   "source": [
    "my_file.readline()"
   ]
  },
  {
   "cell_type": "code",
   "execution_count": 4,
   "id": "ebc7a95b-84a5-414d-a1b1-5c7606671c37",
   "metadata": {},
   "outputs": [
    {
     "data": {
      "text/plain": [
       "'this is second line\\n'"
      ]
     },
     "execution_count": 4,
     "metadata": {},
     "output_type": "execute_result"
    }
   ],
   "source": [
    "my_file.readline()"
   ]
  },
  {
   "cell_type": "code",
   "execution_count": 5,
   "id": "b9d29218-5e33-4da7-8733-b08f4aecdcba",
   "metadata": {},
   "outputs": [
    {
     "data": {
      "text/plain": [
       "'this is third line\\n'"
      ]
     },
     "execution_count": 5,
     "metadata": {},
     "output_type": "execute_result"
    }
   ],
   "source": [
    "my_file.read()"
   ]
  },
  {
   "cell_type": "code",
   "execution_count": 6,
   "id": "cb251ee9-e9c0-4981-87c3-e7f7efc37dab",
   "metadata": {},
   "outputs": [
    {
     "data": {
      "text/plain": [
       "''"
      ]
     },
     "execution_count": 6,
     "metadata": {},
     "output_type": "execute_result"
    }
   ],
   "source": [
    "my_file.read()"
   ]
  },
  {
   "cell_type": "code",
   "execution_count": 7,
   "id": "ee7699a4-aea8-47f9-98c5-eaecafd02d59",
   "metadata": {},
   "outputs": [
    {
     "data": {
      "text/plain": [
       "0"
      ]
     },
     "execution_count": 7,
     "metadata": {},
     "output_type": "execute_result"
    }
   ],
   "source": [
    "my_file.seek(0)"
   ]
  },
  {
   "cell_type": "code",
   "execution_count": 8,
   "id": "6b980108-dbc4-4fbe-a1f5-7179b70ab011",
   "metadata": {},
   "outputs": [
    {
     "data": {
      "text/plain": [
       "'Hi, this is a text file\\nthis is second line\\nthis is third line\\n'"
      ]
     },
     "execution_count": 8,
     "metadata": {},
     "output_type": "execute_result"
    }
   ],
   "source": [
    "my_file.read()"
   ]
  },
  {
   "cell_type": "code",
   "execution_count": 9,
   "id": "799d0071-9f7c-4e06-ba65-75040e04f92a",
   "metadata": {},
   "outputs": [],
   "source": [
    "my_file.close()"
   ]
  },
  {
   "cell_type": "code",
   "execution_count": 10,
   "id": "9a0ad4b3-46f7-4463-b478-a69db3f1ccd3",
   "metadata": {},
   "outputs": [
    {
     "ename": "ValueError",
     "evalue": "I/O operation on closed file.",
     "output_type": "error",
     "traceback": [
      "\u001b[1;31m---------------------------------------------------------------------------\u001b[0m",
      "\u001b[1;31mValueError\u001b[0m                                Traceback (most recent call last)",
      "Cell \u001b[1;32mIn[10], line 1\u001b[0m\n\u001b[1;32m----> 1\u001b[0m my_file\u001b[38;5;241m.\u001b[39mread()\n",
      "\u001b[1;31mValueError\u001b[0m: I/O operation on closed file."
     ]
    }
   ],
   "source": [
    "my_file.read()"
   ]
  },
  {
   "cell_type": "code",
   "execution_count": 11,
   "id": "081813ae-4c9b-4c51-85d8-f1ce7fced949",
   "metadata": {},
   "outputs": [
    {
     "data": {
      "text/plain": [
       "'Hi, this is a text file\\nthis is second line\\nthis is third line\\n'"
      ]
     },
     "execution_count": 11,
     "metadata": {},
     "output_type": "execute_result"
    }
   ],
   "source": [
    "open('myfile.txt').read()"
   ]
  },
  {
   "cell_type": "code",
   "execution_count": 12,
   "id": "cf0299d5-3f8d-4074-b1b2-81c37b66092c",
   "metadata": {},
   "outputs": [
    {
     "data": {
      "text/plain": [
       "'C:\\\\Users\\\\ranja\\\\Python'"
      ]
     },
     "execution_count": 12,
     "metadata": {},
     "output_type": "execute_result"
    }
   ],
   "source": [
    "pwd"
   ]
  },
  {
   "cell_type": "markdown",
   "id": "8e41a430-a437-464e-911a-5814957c5f4b",
   "metadata": {},
   "source": [
    "Open as a temp file without keeping orignal file open"
   ]
  },
  {
   "cell_type": "code",
   "execution_count": 13,
   "id": "9dd1bd0a-ef82-441d-b645-fd924f163380",
   "metadata": {},
   "outputs": [],
   "source": [
    "with open('myfile.txt') as file:\n",
    "    content = file.read()"
   ]
  },
  {
   "cell_type": "code",
   "execution_count": 14,
   "id": "87a3315d-1247-469c-9d61-faf84c4b951d",
   "metadata": {},
   "outputs": [
    {
     "data": {
      "text/plain": [
       "'Hi, this is a text file\\nthis is second line\\nthis is third line\\n'"
      ]
     },
     "execution_count": 14,
     "metadata": {},
     "output_type": "execute_result"
    }
   ],
   "source": [
    "content"
   ]
  },
  {
   "cell_type": "markdown",
   "id": "1ad5b557-8605-42ef-8aff-b409794a35c7",
   "metadata": {},
   "source": [
    "File open modes"
   ]
  },
  {
   "cell_type": "code",
   "execution_count": 15,
   "id": "150ae5d6-58d1-474a-9bf1-e3dc96af494d",
   "metadata": {},
   "outputs": [],
   "source": [
    "with open('myfile.txt', mode='a') as file:  #Append mode\n",
    "    file.write('This is forth line')"
   ]
  },
  {
   "cell_type": "code",
   "execution_count": 16,
   "id": "aff6f9d3-b3d2-49e7-93f0-11687e6fb021",
   "metadata": {},
   "outputs": [],
   "source": [
    "with open('myfile.txt') as file:   #Default mode - Read\n",
    "    content = file.read()"
   ]
  },
  {
   "cell_type": "code",
   "execution_count": 17,
   "id": "20607c02-d394-46e0-93f5-5e58096f9be6",
   "metadata": {},
   "outputs": [
    {
     "data": {
      "text/plain": [
       "'Hi, this is a text file\\nthis is second line\\nthis is third line\\nThis is forth line'"
      ]
     },
     "execution_count": 17,
     "metadata": {},
     "output_type": "execute_result"
    }
   ],
   "source": [
    "content"
   ]
  },
  {
   "cell_type": "code",
   "execution_count": 18,
   "id": "7435bfa9-102e-4d07-a823-c16e91b8bcc4",
   "metadata": {},
   "outputs": [],
   "source": [
    "with open('myfile.txt', mode='w') as file:  #Write mode\n",
    "    file.write('Updating the entire file')\n",
    "    file.write('\\nTHIS IS SECOND LINE')\n",
    "    file.write('\\nTHIS IS THIRD LINE')"
   ]
  },
  {
   "cell_type": "code",
   "execution_count": 19,
   "id": "262ca7d8-50d6-40a3-aef3-988c9034d78b",
   "metadata": {},
   "outputs": [
    {
     "name": "stdout",
     "output_type": "stream",
     "text": [
      "Updating the entire file\n",
      "THIS IS SECOND LINE\n",
      "THIS IS THIRD LINE\n"
     ]
    }
   ],
   "source": [
    "with open('myfile.txt') as file:   #Default mode - Read\n",
    "    print(file.read())"
   ]
  },
  {
   "cell_type": "code",
   "execution_count": 20,
   "id": "9e024833-6b76-4df8-9ac1-90f7dc710416",
   "metadata": {},
   "outputs": [],
   "source": [
    "with open('brandNewFile.txt', mode='w') as file:  #Write mode\n",
    "    file.write('This is a new file')\n",
    "    file.write('\\nTHIS IS SECOND LINE')\n",
    "    file.write('\\nTHIS IS THIRD LINE')"
   ]
  },
  {
   "cell_type": "code",
   "execution_count": 21,
   "id": "90caf965-26e0-4a4f-a0a1-95e85acbd196",
   "metadata": {},
   "outputs": [
    {
     "name": "stdout",
     "output_type": "stream",
     "text": [
      "This is a new file\n",
      "THIS IS SECOND LINE\n",
      "THIS IS THIRD LINE\n"
     ]
    }
   ],
   "source": [
    "with open('brandNewFile.txt') as file:   #Default mode - Read\n",
    "    print(file.read())"
   ]
  },
  {
   "cell_type": "code",
   "execution_count": null,
   "id": "9fed2c98-21b5-4525-9781-2e55fd262655",
   "metadata": {},
   "outputs": [],
   "source": []
  }
 ],
 "metadata": {
  "kernelspec": {
   "display_name": "Python 3 (ipykernel)",
   "language": "python",
   "name": "python3"
  },
  "language_info": {
   "codemirror_mode": {
    "name": "ipython",
    "version": 3
   },
   "file_extension": ".py",
   "mimetype": "text/x-python",
   "name": "python",
   "nbconvert_exporter": "python",
   "pygments_lexer": "ipython3",
   "version": "3.11.7"
  }
 },
 "nbformat": 4,
 "nbformat_minor": 5
}
