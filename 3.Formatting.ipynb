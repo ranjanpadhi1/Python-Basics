{
 "cells": [
  {
   "cell_type": "markdown",
   "id": "53b020ca-01de-478c-a3e6-661495d2fdc1",
   "metadata": {},
   "source": [
    "String Formatting"
   ]
  },
  {
   "cell_type": "code",
   "execution_count": 1,
   "id": "33d2108f-9727-4ad6-8c62-838bb25bfbbf",
   "metadata": {},
   "outputs": [
    {
     "name": "stdout",
     "output_type": "stream",
     "text": [
      "Hello Ranjan\n"
     ]
    }
   ],
   "source": [
    "print('Hello {}'.format('Ranjan'))"
   ]
  },
  {
   "cell_type": "code",
   "execution_count": 2,
   "id": "4accd444-4047-4aba-bbaa-43bc4f50ec65",
   "metadata": {},
   "outputs": [
    {
     "name": "stdout",
     "output_type": "stream",
     "text": [
      "The fox brown quick\n"
     ]
    }
   ],
   "source": [
    "print('The {} {} {}'.format('fox', 'brown', 'quick'))"
   ]
  },
  {
   "cell_type": "code",
   "execution_count": 3,
   "id": "5ba4dd05-61ee-423f-a1d3-e68c325b3fb3",
   "metadata": {},
   "outputs": [
    {
     "name": "stdout",
     "output_type": "stream",
     "text": [
      "The quick brown fox\n"
     ]
    }
   ],
   "source": [
    "print('The {2} {1} {0}'.format('fox', 'brown', 'quick'))"
   ]
  },
  {
   "cell_type": "code",
   "execution_count": 4,
   "id": "5fd8054c-f3b6-472c-9119-7db05ea2bdcd",
   "metadata": {},
   "outputs": [
    {
     "name": "stdout",
     "output_type": "stream",
     "text": [
      "The fox fox fox\n"
     ]
    }
   ],
   "source": [
    "print('The {0} {0} {0}'.format('fox', 'brown', 'quick'))"
   ]
  },
  {
   "cell_type": "code",
   "execution_count": 5,
   "id": "526f270b-8f6c-4f9a-88d2-668cc4e4fc3a",
   "metadata": {},
   "outputs": [
    {
     "name": "stdout",
     "output_type": "stream",
     "text": [
      "The quick brown fox\n"
     ]
    }
   ],
   "source": [
    "print('The {q} {b} {f}'.format(f='fox', b='brown', q='quick'))"
   ]
  },
  {
   "cell_type": "markdown",
   "id": "475ec0d6-54b2-4d0c-8673-c167eaa42bb6",
   "metadata": {},
   "source": [
    "Float Formatting"
   ]
  },
  {
   "cell_type": "code",
   "execution_count": 6,
   "id": "0aabca18-1919-4058-807b-2e3ed0bcf798",
   "metadata": {},
   "outputs": [],
   "source": [
    "balance = 10000 / 6"
   ]
  },
  {
   "cell_type": "code",
   "execution_count": 7,
   "id": "6762576a-a444-44f5-b22c-92b8a59ea121",
   "metadata": {},
   "outputs": [
    {
     "data": {
      "text/plain": [
       "1666.6666666666667"
      ]
     },
     "execution_count": 7,
     "metadata": {},
     "output_type": "execute_result"
    }
   ],
   "source": [
    "balance"
   ]
  },
  {
   "cell_type": "code",
   "execution_count": 8,
   "id": "2e473e15-4bd4-49c9-8e09-ef837c3d46ff",
   "metadata": {},
   "outputs": [],
   "source": [
    "name = 'Ranjan'"
   ]
  },
  {
   "cell_type": "code",
   "execution_count": 9,
   "id": "c365f054-1e0a-4fa6-855d-4b407941fb9d",
   "metadata": {},
   "outputs": [
    {
     "name": "stdout",
     "output_type": "stream",
     "text": [
      "Ranjan has $1666.6666666666667 in account\n"
     ]
    }
   ],
   "source": [
    "print('{name} has ${bal} in account'.format(name=name, bal=balance))"
   ]
  },
  {
   "cell_type": "code",
   "execution_count": 10,
   "id": "4a917d57-19c0-40ff-a6db-658df4eafd00",
   "metadata": {},
   "outputs": [
    {
     "name": "stdout",
     "output_type": "stream",
     "text": [
      "Ranjan has $1666.67 in account\n"
     ]
    }
   ],
   "source": [
    "print('{name} has ${bal:1.2f} in account'.format(name=name, bal=balance))"
   ]
  },
  {
   "cell_type": "markdown",
   "id": "e5c50a81-a36e-428b-9d60-654910f6ff95",
   "metadata": {},
   "source": [
    "F-Strings Formatting"
   ]
  },
  {
   "cell_type": "code",
   "execution_count": 11,
   "id": "1e8de64f-0d39-47f8-bace-de20d2277a73",
   "metadata": {},
   "outputs": [
    {
     "name": "stdout",
     "output_type": "stream",
     "text": [
      "Ranjan has $1666.67 in account\n"
     ]
    }
   ],
   "source": [
    "print(f'{name} has ${balance:1.2f} in account')"
   ]
  },
  {
   "cell_type": "code",
   "execution_count": 12,
   "id": "dace84c5-4435-4ca0-8060-9c31480a3311",
   "metadata": {},
   "outputs": [],
   "source": [
    "result = f'{name} has ${balance:1.2f} in account'"
   ]
  },
  {
   "cell_type": "code",
   "execution_count": 13,
   "id": "3abad496-707d-4f80-b4b6-7d3acb3327f2",
   "metadata": {},
   "outputs": [
    {
     "data": {
      "text/plain": [
       "'Ranjan has $1666.67 in account'"
      ]
     },
     "execution_count": 13,
     "metadata": {},
     "output_type": "execute_result"
    }
   ],
   "source": [
    "result"
   ]
  },
  {
   "cell_type": "code",
   "execution_count": null,
   "id": "21d5b963-a0f1-4450-8403-63004c8ed7c4",
   "metadata": {},
   "outputs": [],
   "source": []
  }
 ],
 "metadata": {
  "kernelspec": {
   "display_name": "Python 3 (ipykernel)",
   "language": "python",
   "name": "python3"
  },
  "language_info": {
   "codemirror_mode": {
    "name": "ipython",
    "version": 3
   },
   "file_extension": ".py",
   "mimetype": "text/x-python",
   "name": "python",
   "nbconvert_exporter": "python",
   "pygments_lexer": "ipython3",
   "version": "3.11.7"
  }
 },
 "nbformat": 4,
 "nbformat_minor": 5
}
