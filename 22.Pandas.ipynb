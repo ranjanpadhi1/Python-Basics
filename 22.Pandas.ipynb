{
 "cells": [
  {
   "cell_type": "code",
   "execution_count": 4,
   "id": "a7137868-7046-4358-8653-73d464c42017",
   "metadata": {},
   "outputs": [],
   "source": [
    "# Pandas\n",
    "import pandas as pd"
   ]
  },
  {
   "cell_type": "code",
   "execution_count": 114,
   "id": "830673dd-6342-4587-a01b-a673af38b8df",
   "metadata": {},
   "outputs": [],
   "source": [
    "# data = pd.DataFrame(columns=['Name', 'Age', 'Email'], data=[['Ranjan', 33, 'ranjan@gmail.com'], ['Deepak', 36, 'deepak@gmail.com']])\n",
    "\n",
    "data = pd.DataFrame({\n",
    "    'Name' : ['Ranjan', 'Deepak', 'Saikat', 'Jigar'],\n",
    "    'Age' : [33, 36, 35, 40],\n",
    "    'Email' : ['ranjan@gmail.com', 'deepak@gmail.com', 'saikat@gmail.com', 'jigar@gmail.com'],\n",
    "    'Mobile' : ['8866556622', '886645455', '8866544472', '88764654526']\n",
    "})"
   ]
  },
  {
   "cell_type": "code",
   "execution_count": 115,
   "id": "cfda7761-d61f-4b58-8266-37aee2987df7",
   "metadata": {},
   "outputs": [
    {
     "data": {
      "text/html": [
       "<div>\n",
       "<style scoped>\n",
       "    .dataframe tbody tr th:only-of-type {\n",
       "        vertical-align: middle;\n",
       "    }\n",
       "\n",
       "    .dataframe tbody tr th {\n",
       "        vertical-align: top;\n",
       "    }\n",
       "\n",
       "    .dataframe thead th {\n",
       "        text-align: right;\n",
       "    }\n",
       "</style>\n",
       "<table border=\"1\" class=\"dataframe\">\n",
       "  <thead>\n",
       "    <tr style=\"text-align: right;\">\n",
       "      <th></th>\n",
       "      <th>Name</th>\n",
       "      <th>Age</th>\n",
       "      <th>Email</th>\n",
       "      <th>Mobile</th>\n",
       "    </tr>\n",
       "  </thead>\n",
       "  <tbody>\n",
       "    <tr>\n",
       "      <th>0</th>\n",
       "      <td>Ranjan</td>\n",
       "      <td>33</td>\n",
       "      <td>ranjan@gmail.com</td>\n",
       "      <td>8866556622</td>\n",
       "    </tr>\n",
       "    <tr>\n",
       "      <th>1</th>\n",
       "      <td>Deepak</td>\n",
       "      <td>36</td>\n",
       "      <td>deepak@gmail.com</td>\n",
       "      <td>886645455</td>\n",
       "    </tr>\n",
       "    <tr>\n",
       "      <th>2</th>\n",
       "      <td>Saikat</td>\n",
       "      <td>35</td>\n",
       "      <td>saikat@gmail.com</td>\n",
       "      <td>8866544472</td>\n",
       "    </tr>\n",
       "    <tr>\n",
       "      <th>3</th>\n",
       "      <td>Jigar</td>\n",
       "      <td>40</td>\n",
       "      <td>jigar@gmail.com</td>\n",
       "      <td>88764654526</td>\n",
       "    </tr>\n",
       "  </tbody>\n",
       "</table>\n",
       "</div>"
      ],
      "text/plain": [
       "     Name  Age             Email       Mobile\n",
       "0  Ranjan   33  ranjan@gmail.com   8866556622\n",
       "1  Deepak   36  deepak@gmail.com    886645455\n",
       "2  Saikat   35  saikat@gmail.com   8866544472\n",
       "3   Jigar   40   jigar@gmail.com  88764654526"
      ]
     },
     "execution_count": 115,
     "metadata": {},
     "output_type": "execute_result"
    }
   ],
   "source": [
    "data"
   ]
  },
  {
   "cell_type": "code",
   "execution_count": 116,
   "id": "1c17a32f-ffbf-49d6-b068-5c669db76483",
   "metadata": {},
   "outputs": [
    {
     "data": {
      "text/plain": [
       "array(['Ranjan', 33, 'ranjan@gmail.com', '8866556622'], dtype=object)"
      ]
     },
     "execution_count": 116,
     "metadata": {},
     "output_type": "execute_result"
    }
   ],
   "source": [
    "# Get first row values\n",
    "data.iloc[0].values"
   ]
  },
  {
   "cell_type": "code",
   "execution_count": 117,
   "id": "c0b36f60-d87c-4bf0-a78b-d5de0c4239f6",
   "metadata": {},
   "outputs": [
    {
     "data": {
      "text/html": [
       "<div>\n",
       "<style scoped>\n",
       "    .dataframe tbody tr th:only-of-type {\n",
       "        vertical-align: middle;\n",
       "    }\n",
       "\n",
       "    .dataframe tbody tr th {\n",
       "        vertical-align: top;\n",
       "    }\n",
       "\n",
       "    .dataframe thead th {\n",
       "        text-align: right;\n",
       "    }\n",
       "</style>\n",
       "<table border=\"1\" class=\"dataframe\">\n",
       "  <thead>\n",
       "    <tr style=\"text-align: right;\">\n",
       "      <th></th>\n",
       "      <th>Name</th>\n",
       "      <th>Age</th>\n",
       "      <th>Email</th>\n",
       "      <th>Mobile</th>\n",
       "    </tr>\n",
       "  </thead>\n",
       "  <tbody>\n",
       "    <tr>\n",
       "      <th>1</th>\n",
       "      <td>Deepak</td>\n",
       "      <td>36</td>\n",
       "      <td>deepak@gmail.com</td>\n",
       "      <td>886645455</td>\n",
       "    </tr>\n",
       "    <tr>\n",
       "      <th>2</th>\n",
       "      <td>Saikat</td>\n",
       "      <td>35</td>\n",
       "      <td>saikat@gmail.com</td>\n",
       "      <td>8866544472</td>\n",
       "    </tr>\n",
       "  </tbody>\n",
       "</table>\n",
       "</div>"
      ],
      "text/plain": [
       "     Name  Age             Email      Mobile\n",
       "1  Deepak   36  deepak@gmail.com   886645455\n",
       "2  Saikat   35  saikat@gmail.com  8866544472"
      ]
     },
     "execution_count": 117,
     "metadata": {},
     "output_type": "execute_result"
    }
   ],
   "source": [
    "# Second and third row\n",
    "data.iloc[1:3, :]"
   ]
  },
  {
   "cell_type": "code",
   "execution_count": 153,
   "id": "4b0a156a-e414-4fb1-9a40-80314f03461a",
   "metadata": {},
   "outputs": [
    {
     "data": {
      "text/html": [
       "<div>\n",
       "<style scoped>\n",
       "    .dataframe tbody tr th:only-of-type {\n",
       "        vertical-align: middle;\n",
       "    }\n",
       "\n",
       "    .dataframe tbody tr th {\n",
       "        vertical-align: top;\n",
       "    }\n",
       "\n",
       "    .dataframe thead th {\n",
       "        text-align: right;\n",
       "    }\n",
       "</style>\n",
       "<table border=\"1\" class=\"dataframe\">\n",
       "  <thead>\n",
       "    <tr style=\"text-align: right;\">\n",
       "      <th></th>\n",
       "      <th>Name</th>\n",
       "      <th>Age</th>\n",
       "    </tr>\n",
       "  </thead>\n",
       "  <tbody>\n",
       "    <tr>\n",
       "      <th>0</th>\n",
       "      <td>Ranjan</td>\n",
       "      <td>33</td>\n",
       "    </tr>\n",
       "    <tr>\n",
       "      <th>1</th>\n",
       "      <td>Deepak</td>\n",
       "      <td>36</td>\n",
       "    </tr>\n",
       "    <tr>\n",
       "      <th>2</th>\n",
       "      <td>Saikat</td>\n",
       "      <td>35</td>\n",
       "    </tr>\n",
       "    <tr>\n",
       "      <th>3</th>\n",
       "      <td>Jigar</td>\n",
       "      <td>40</td>\n",
       "    </tr>\n",
       "  </tbody>\n",
       "</table>\n",
       "</div>"
      ],
      "text/plain": [
       "     Name  Age\n",
       "0  Ranjan   33\n",
       "1  Deepak   36\n",
       "2  Saikat   35\n",
       "3   Jigar   40"
      ]
     },
     "execution_count": 153,
     "metadata": {},
     "output_type": "execute_result"
    }
   ],
   "source": [
    "# First two column\n",
    "data.iloc[:, :2]"
   ]
  },
  {
   "cell_type": "code",
   "execution_count": 158,
   "id": "af937763-2f4b-49a4-a91b-f6526c9e3d40",
   "metadata": {},
   "outputs": [
    {
     "data": {
      "text/plain": [
       "0    33\n",
       "1    36\n",
       "2    35\n",
       "3    40\n",
       "Name: Age, dtype: int64"
      ]
     },
     "execution_count": 158,
     "metadata": {},
     "output_type": "execute_result"
    }
   ],
   "source": [
    "# Second column\n",
    "data.iloc[:, 1]"
   ]
  },
  {
   "cell_type": "code",
   "execution_count": 162,
   "id": "31c12e8c-67a3-4f89-ad9b-44c42b25db94",
   "metadata": {},
   "outputs": [
    {
     "data": {
      "text/plain": [
       "0     8866556622\n",
       "1      886645455\n",
       "2     8866544472\n",
       "3    88764654526\n",
       "Name: Mobile, dtype: object"
      ]
     },
     "execution_count": 162,
     "metadata": {},
     "output_type": "execute_result"
    }
   ],
   "source": [
    "# Last column\n",
    "data.iloc[:, -1]"
   ]
  },
  {
   "cell_type": "code",
   "execution_count": 169,
   "id": "cccdfe7c-027f-4209-bbc3-507fe8eca4db",
   "metadata": {},
   "outputs": [
    {
     "data": {
      "text/html": [
       "<div>\n",
       "<style scoped>\n",
       "    .dataframe tbody tr th:only-of-type {\n",
       "        vertical-align: middle;\n",
       "    }\n",
       "\n",
       "    .dataframe tbody tr th {\n",
       "        vertical-align: top;\n",
       "    }\n",
       "\n",
       "    .dataframe thead th {\n",
       "        text-align: right;\n",
       "    }\n",
       "</style>\n",
       "<table border=\"1\" class=\"dataframe\">\n",
       "  <thead>\n",
       "    <tr style=\"text-align: right;\">\n",
       "      <th></th>\n",
       "      <th>Age</th>\n",
       "      <th>Email</th>\n",
       "    </tr>\n",
       "  </thead>\n",
       "  <tbody>\n",
       "    <tr>\n",
       "      <th>0</th>\n",
       "      <td>33</td>\n",
       "      <td>ranjan@gmail.com</td>\n",
       "    </tr>\n",
       "    <tr>\n",
       "      <th>1</th>\n",
       "      <td>36</td>\n",
       "      <td>deepak@gmail.com</td>\n",
       "    </tr>\n",
       "    <tr>\n",
       "      <th>2</th>\n",
       "      <td>35</td>\n",
       "      <td>saikat@gmail.com</td>\n",
       "    </tr>\n",
       "    <tr>\n",
       "      <th>3</th>\n",
       "      <td>40</td>\n",
       "      <td>jigar@gmail.com</td>\n",
       "    </tr>\n",
       "  </tbody>\n",
       "</table>\n",
       "</div>"
      ],
      "text/plain": [
       "   Age             Email\n",
       "0   33  ranjan@gmail.com\n",
       "1   36  deepak@gmail.com\n",
       "2   35  saikat@gmail.com\n",
       "3   40   jigar@gmail.com"
      ]
     },
     "execution_count": 169,
     "metadata": {},
     "output_type": "execute_result"
    }
   ],
   "source": [
    "# Except last two column\n",
    "data.iloc[:, 1:-1]"
   ]
  },
  {
   "cell_type": "code",
   "execution_count": 128,
   "id": "65a9bde6-be52-423f-a29a-881d6c8dfca2",
   "metadata": {},
   "outputs": [
    {
     "data": {
      "text/plain": [
       "'Deepak'"
      ]
     },
     "execution_count": 128,
     "metadata": {},
     "output_type": "execute_result"
    }
   ],
   "source": [
    "# Get second row name\n",
    "data.iloc[1, 0]"
   ]
  },
  {
   "cell_type": "code",
   "execution_count": 129,
   "id": "2d8a980a-6d7e-4f16-a75b-8f269b4874ad",
   "metadata": {},
   "outputs": [
    {
     "data": {
      "text/plain": [
       "['ranjan@gmail.com', 'deepak@gmail.com', 'saikat@gmail.com', 'jigar@gmail.com']"
      ]
     },
     "execution_count": 129,
     "metadata": {},
     "output_type": "execute_result"
    }
   ],
   "source": [
    "# Get all emails and convert to list\n",
    "list(data.iloc[:, 2])"
   ]
  },
  {
   "cell_type": "code",
   "execution_count": 130,
   "id": "35e1d8a3-2b6c-47f2-9c1e-d8d9a2f0c7f0",
   "metadata": {},
   "outputs": [
    {
     "data": {
      "text/plain": [
       "['Deepak', 36]"
      ]
     },
     "execution_count": 130,
     "metadata": {},
     "output_type": "execute_result"
    }
   ],
   "source": [
    "# Second row first two column\n",
    "list(data.iloc[1, :2])"
   ]
  },
  {
   "cell_type": "code",
   "execution_count": 136,
   "id": "09111ac9-fe01-4ed4-ab49-b730b47ea79e",
   "metadata": {},
   "outputs": [
    {
     "data": {
      "text/plain": [
       "[33, 36, 35, 40]"
      ]
     },
     "execution_count": 136,
     "metadata": {},
     "output_type": "execute_result"
    }
   ],
   "source": [
    "# Get by column name\n",
    "list(data['Age'])"
   ]
  },
  {
   "cell_type": "code",
   "execution_count": 139,
   "id": "3f0e2e8e-6b5c-49c2-9364-3dd4cdc39eb0",
   "metadata": {},
   "outputs": [
    {
     "data": {
      "text/html": [
       "<div>\n",
       "<style scoped>\n",
       "    .dataframe tbody tr th:only-of-type {\n",
       "        vertical-align: middle;\n",
       "    }\n",
       "\n",
       "    .dataframe tbody tr th {\n",
       "        vertical-align: top;\n",
       "    }\n",
       "\n",
       "    .dataframe thead th {\n",
       "        text-align: right;\n",
       "    }\n",
       "</style>\n",
       "<table border=\"1\" class=\"dataframe\">\n",
       "  <thead>\n",
       "    <tr style=\"text-align: right;\">\n",
       "      <th></th>\n",
       "      <th>Name</th>\n",
       "      <th>Age</th>\n",
       "    </tr>\n",
       "  </thead>\n",
       "  <tbody>\n",
       "    <tr>\n",
       "      <th>0</th>\n",
       "      <td>Ranjan</td>\n",
       "      <td>33</td>\n",
       "    </tr>\n",
       "    <tr>\n",
       "      <th>1</th>\n",
       "      <td>Deepak</td>\n",
       "      <td>36</td>\n",
       "    </tr>\n",
       "    <tr>\n",
       "      <th>2</th>\n",
       "      <td>Saikat</td>\n",
       "      <td>35</td>\n",
       "    </tr>\n",
       "    <tr>\n",
       "      <th>3</th>\n",
       "      <td>Jigar</td>\n",
       "      <td>40</td>\n",
       "    </tr>\n",
       "  </tbody>\n",
       "</table>\n",
       "</div>"
      ],
      "text/plain": [
       "     Name  Age\n",
       "0  Ranjan   33\n",
       "1  Deepak   36\n",
       "2  Saikat   35\n",
       "3   Jigar   40"
      ]
     },
     "execution_count": 139,
     "metadata": {},
     "output_type": "execute_result"
    }
   ],
   "source": [
    "# Get by multiple column name\n",
    "data[['Name', 'Age']]"
   ]
  },
  {
   "cell_type": "code",
   "execution_count": 145,
   "id": "c34a278c-e312-41f4-ac1c-57effdfb873e",
   "metadata": {},
   "outputs": [
    {
     "data": {
      "text/html": [
       "<div>\n",
       "<style scoped>\n",
       "    .dataframe tbody tr th:only-of-type {\n",
       "        vertical-align: middle;\n",
       "    }\n",
       "\n",
       "    .dataframe tbody tr th {\n",
       "        vertical-align: top;\n",
       "    }\n",
       "\n",
       "    .dataframe thead th {\n",
       "        text-align: right;\n",
       "    }\n",
       "</style>\n",
       "<table border=\"1\" class=\"dataframe\">\n",
       "  <thead>\n",
       "    <tr style=\"text-align: right;\">\n",
       "      <th></th>\n",
       "      <th>Name</th>\n",
       "      <th>Age</th>\n",
       "      <th>Email</th>\n",
       "      <th>Mobile</th>\n",
       "    </tr>\n",
       "  </thead>\n",
       "  <tbody>\n",
       "    <tr>\n",
       "      <th>0</th>\n",
       "      <td>Ranjan</td>\n",
       "      <td>33</td>\n",
       "      <td>ranjan@gmail.com</td>\n",
       "      <td>8866556622</td>\n",
       "    </tr>\n",
       "    <tr>\n",
       "      <th>2</th>\n",
       "      <td>Saikat</td>\n",
       "      <td>35</td>\n",
       "      <td>saikat@gmail.com</td>\n",
       "      <td>8866544472</td>\n",
       "    </tr>\n",
       "  </tbody>\n",
       "</table>\n",
       "</div>"
      ],
      "text/plain": [
       "     Name  Age             Email      Mobile\n",
       "0  Ranjan   33  ranjan@gmail.com  8866556622\n",
       "2  Saikat   35  saikat@gmail.com  8866544472"
      ]
     },
     "execution_count": 145,
     "metadata": {},
     "output_type": "execute_result"
    }
   ],
   "source": [
    "# Get employee <= 35 age\n",
    "data[data['Age'] <= 35]"
   ]
  },
  {
   "cell_type": "code",
   "execution_count": null,
   "id": "5846c148-3942-45d4-8c9a-08b641b01e80",
   "metadata": {},
   "outputs": [],
   "source": []
  }
 ],
 "metadata": {
  "kernelspec": {
   "display_name": "Python 3 (ipykernel)",
   "language": "python",
   "name": "python3"
  },
  "language_info": {
   "codemirror_mode": {
    "name": "ipython",
    "version": 3
   },
   "file_extension": ".py",
   "mimetype": "text/x-python",
   "name": "python",
   "nbconvert_exporter": "python",
   "pygments_lexer": "ipython3",
   "version": "3.11.7"
  }
 },
 "nbformat": 4,
 "nbformat_minor": 5
}
