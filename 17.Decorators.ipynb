{
 "cells": [
  {
   "cell_type": "code",
   "execution_count": 1,
   "id": "4020d6a9-36af-4982-984f-674f9f5254a6",
   "metadata": {},
   "outputs": [],
   "source": [
    "# Create decorator\n",
    "\n",
    "def my_decorator(func):\n",
    "    def wrap():\n",
    "        print('Before func')\n",
    "        func()\n",
    "        print('After func')\n",
    "    return wrap\n"
   ]
  },
  {
   "cell_type": "code",
   "execution_count": 2,
   "id": "e7e685e6-f497-45cf-bc3e-e96bfc85ff03",
   "metadata": {},
   "outputs": [],
   "source": [
    "@my_decorator\n",
    "def my_func():\n",
    "    print('My function is executed')"
   ]
  },
  {
   "cell_type": "code",
   "execution_count": 3,
   "id": "9c39e7a3-6ffd-4a58-9dec-9ffb660cd02f",
   "metadata": {},
   "outputs": [
    {
     "name": "stdout",
     "output_type": "stream",
     "text": [
      "Before func\n",
      "My function is executed\n",
      "After func\n"
     ]
    }
   ],
   "source": [
    "my_func()"
   ]
  },
  {
   "cell_type": "code",
   "execution_count": 17,
   "id": "68e61f20-f5b5-4542-a2a5-0fc907ff516e",
   "metadata": {},
   "outputs": [],
   "source": [
    "# Decorator with arguments\n",
    "\n",
    "def decorate(function):\n",
    "    def wrap_function(name):\n",
    "        print(f'Upper case {name.upper()}')\n",
    "        function(name)\n",
    "        print(f'Lower case {name.lower()}')\n",
    "    return wrap_function\n",
    "    "
   ]
  },
  {
   "cell_type": "code",
   "execution_count": 24,
   "id": "afa50226-9149-476a-a17a-68460843a076",
   "metadata": {},
   "outputs": [],
   "source": [
    "@decorate\n",
    "def print_message(name):\n",
    "    print(f'Camel Case {name.title()}')"
   ]
  },
  {
   "cell_type": "code",
   "execution_count": 25,
   "id": "dc0824cb-c5b5-4767-bcec-ae163d8b65ab",
   "metadata": {},
   "outputs": [
    {
     "name": "stdout",
     "output_type": "stream",
     "text": [
      "Upper case RANJAN PADHI\n",
      "Camel Case Ranjan Padhi\n",
      "Lower case ranjan padhi\n"
     ]
    }
   ],
   "source": [
    "print_message(name='ranjan padhi')"
   ]
  },
  {
   "cell_type": "code",
   "execution_count": null,
   "id": "8f634ffe-c857-401f-8a7e-13f4aba3fde5",
   "metadata": {},
   "outputs": [],
   "source": []
  }
 ],
 "metadata": {
  "kernelspec": {
   "display_name": "Python 3 (ipykernel)",
   "language": "python",
   "name": "python3"
  },
  "language_info": {
   "codemirror_mode": {
    "name": "ipython",
    "version": 3
   },
   "file_extension": ".py",
   "mimetype": "text/x-python",
   "name": "python",
   "nbconvert_exporter": "python",
   "pygments_lexer": "ipython3",
   "version": "3.11.7"
  }
 },
 "nbformat": 4,
 "nbformat_minor": 5
}
