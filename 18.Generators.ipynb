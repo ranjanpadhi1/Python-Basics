{
 "cells": [
  {
   "cell_type": "code",
   "execution_count": 13,
   "id": "a03c6373-1035-4a25-a0fe-2e02b4777d64",
   "metadata": {},
   "outputs": [],
   "source": [
    "# Generator - rather than creating entire range one shot, gives one value at a time"
   ]
  },
  {
   "cell_type": "code",
   "execution_count": 14,
   "id": "2d550685-8e1b-4767-b261-4e76d51d3b84",
   "metadata": {},
   "outputs": [
    {
     "data": {
      "text/plain": [
       "[1, 2, 3, 4, 5, 6, 7, 8, 9]"
      ]
     },
     "execution_count": 14,
     "metadata": {},
     "output_type": "execute_result"
    }
   ],
   "source": [
    "# Range generator\n",
    "list(range(1, 10))"
   ]
  },
  {
   "cell_type": "code",
   "execution_count": 15,
   "id": "0008310f-67a5-48b0-acf1-47d476f3cc80",
   "metadata": {},
   "outputs": [],
   "source": [
    "# Create own generator\n",
    "\n",
    "def square(num):\n",
    "    for n in range(num):\n",
    "        yield n**2\n"
   ]
  },
  {
   "cell_type": "code",
   "execution_count": 16,
   "id": "c00f1dbb-dc52-4c33-85e3-8523d904a606",
   "metadata": {},
   "outputs": [
    {
     "data": {
      "text/plain": [
       "[0, 1, 4, 9, 16, 25, 36, 49, 64, 81]"
      ]
     },
     "execution_count": 16,
     "metadata": {},
     "output_type": "execute_result"
    }
   ],
   "source": [
    "list(square(10))"
   ]
  },
  {
   "cell_type": "code",
   "execution_count": 36,
   "id": "0609bb66-1333-44db-8ac3-a18030721def",
   "metadata": {},
   "outputs": [],
   "source": [
    "# Fibonacci generator\n",
    "\n",
    "def fib(num):\n",
    "    a = 0\n",
    "    b = 1\n",
    "    for i in range(num):\n",
    "        yield a\n",
    "        a,b = b,a+b\n",
    "        "
   ]
  },
  {
   "cell_type": "code",
   "execution_count": 37,
   "id": "cfae3038-82f3-43e3-b8ae-12f1bc08bb95",
   "metadata": {},
   "outputs": [
    {
     "data": {
      "text/plain": [
       "[0, 1, 1, 2, 3, 5, 8, 13, 21, 34]"
      ]
     },
     "execution_count": 37,
     "metadata": {},
     "output_type": "execute_result"
    }
   ],
   "source": [
    "list(fib(10))"
   ]
  },
  {
   "cell_type": "code",
   "execution_count": 38,
   "id": "4a9ee441-ce81-45f1-9c8b-2691b1aa391b",
   "metadata": {},
   "outputs": [
    {
     "name": "stdout",
     "output_type": "stream",
     "text": [
      "0\n",
      "1\n",
      "1\n",
      "2\n",
      "3\n",
      "5\n",
      "8\n",
      "13\n",
      "21\n",
      "34\n"
     ]
    }
   ],
   "source": [
    "for f in fib(10):\n",
    "    print(f)"
   ]
  },
  {
   "cell_type": "code",
   "execution_count": 40,
   "id": "c16b4246-1868-40ae-a16b-b487ea5ca26f",
   "metadata": {},
   "outputs": [],
   "source": [
    "# Next function\n",
    "\n",
    "def gen(num):\n",
    "    for n in range(num):\n",
    "        yield n"
   ]
  },
  {
   "cell_type": "code",
   "execution_count": 45,
   "id": "a0098e4e-cbbf-4888-bd8e-8da6083fe45b",
   "metadata": {},
   "outputs": [],
   "source": [
    "g = gen(10)"
   ]
  },
  {
   "cell_type": "code",
   "execution_count": 46,
   "id": "5e0ef845-c5bc-4fa8-9ebb-34863639e189",
   "metadata": {},
   "outputs": [
    {
     "data": {
      "text/plain": [
       "0"
      ]
     },
     "execution_count": 46,
     "metadata": {},
     "output_type": "execute_result"
    }
   ],
   "source": [
    "next(g)"
   ]
  },
  {
   "cell_type": "code",
   "execution_count": 47,
   "id": "482913d7-ab07-4dbc-bead-23db632fe1c9",
   "metadata": {},
   "outputs": [
    {
     "data": {
      "text/plain": [
       "1"
      ]
     },
     "execution_count": 47,
     "metadata": {},
     "output_type": "execute_result"
    }
   ],
   "source": [
    "next(g)"
   ]
  },
  {
   "cell_type": "code",
   "execution_count": 48,
   "id": "59bd00c0-b651-4884-9525-45bf0ba420ce",
   "metadata": {},
   "outputs": [
    {
     "data": {
      "text/plain": [
       "2"
      ]
     },
     "execution_count": 48,
     "metadata": {},
     "output_type": "execute_result"
    }
   ],
   "source": [
    "next(g)"
   ]
  },
  {
   "cell_type": "code",
   "execution_count": 49,
   "id": "3dfaddfc-7b6f-4d81-bbe3-2ef14aa338cd",
   "metadata": {},
   "outputs": [
    {
     "data": {
      "text/plain": [
       "3"
      ]
     },
     "execution_count": 49,
     "metadata": {},
     "output_type": "execute_result"
    }
   ],
   "source": [
    "next(g)"
   ]
  },
  {
   "cell_type": "code",
   "execution_count": null,
   "id": "1e9bc9e7-d958-4b23-a8e4-7482b093f7e9",
   "metadata": {},
   "outputs": [],
   "source": []
  }
 ],
 "metadata": {
  "kernelspec": {
   "display_name": "Python 3 (ipykernel)",
   "language": "python",
   "name": "python3"
  },
  "language_info": {
   "codemirror_mode": {
    "name": "ipython",
    "version": 3
   },
   "file_extension": ".py",
   "mimetype": "text/x-python",
   "name": "python",
   "nbconvert_exporter": "python",
   "pygments_lexer": "ipython3",
   "version": "3.11.7"
  }
 },
 "nbformat": 4,
 "nbformat_minor": 5
}
