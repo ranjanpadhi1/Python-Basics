{
 "cells": [
  {
   "cell_type": "code",
   "execution_count": 1,
   "id": "f03c565d-1280-4d2a-8b26-87ac6cfcc306",
   "metadata": {},
   "outputs": [
    {
     "name": "stdout",
     "output_type": "stream",
     "text": [
      "['emp_id', 'first_name', 'last_name', 'email']\n",
      "['R610427', 'Ranjan', 'Padhi', 'ranjan.padhi@jpmc.com']\n",
      "['O660682', 'Deepak', 'Rathor', 'deepak.rathor@jpmc.com']\n",
      "['V545445', 'Saikat', 'Choudhury', 'saikat@jpmc.com']\n",
      "['F656555', 'Ashwin', 'Phadke', 'ashwin@jpmc.com']\n"
     ]
    }
   ],
   "source": [
    "# Read a CSV file\n",
    "import csv\n",
    "\n",
    "with open('emp_data.csv', encoding='utf-8') as file:\n",
    "    for row in csv.reader(file):\n",
    "        print(row)\n"
   ]
  },
  {
   "cell_type": "code",
   "execution_count": 2,
   "id": "b008ba63-8509-423e-91ef-6888d65c1844",
   "metadata": {},
   "outputs": [],
   "source": [
    "# Read CSV file and write to JSON file\n",
    "import csv\n",
    "import json\n",
    "\n",
    "def csv_to_json(file_name):\n",
    "    rows = list()\n",
    "    with open(file_name + '.csv', encoding='utf-8') as file:\n",
    "        headers = list()\n",
    "        for i, record in enumerate(csv.reader(file)):\n",
    "            if i == 0:\n",
    "                headers = record\n",
    "            else:\n",
    "                row = dict()\n",
    "                for i, header in enumerate(headers):\n",
    "                    row[header] = record[i]\n",
    "                rows.append(row)\n",
    "\n",
    "    with open(file_name + '.json', 'w') as file:\n",
    "        json.dump(rows, file)\n",
    "    return rows"
   ]
  },
  {
   "cell_type": "code",
   "execution_count": 3,
   "id": "1543031b-3a16-4d4a-a7a6-d56cc0339229",
   "metadata": {},
   "outputs": [
    {
     "name": "stdout",
     "output_type": "stream",
     "text": [
      "[{'emp_id': 'R610427', 'first_name': 'Ranjan', 'last_name': 'Padhi', 'email': 'ranjan.padhi@jpmc.com'}, {'emp_id': 'O660682', 'first_name': 'Deepak', 'last_name': 'Rathor', 'email': 'deepak.rathor@jpmc.com'}, {'emp_id': 'V545445', 'first_name': 'Saikat', 'last_name': 'Choudhury', 'email': 'saikat@jpmc.com'}, {'emp_id': 'F656555', 'first_name': 'Ashwin', 'last_name': 'Phadke', 'email': 'ashwin@jpmc.com'}]\n"
     ]
    }
   ],
   "source": [
    "print(csv_to_json('emp_data'))"
   ]
  },
  {
   "cell_type": "code",
   "execution_count": 4,
   "id": "34832ec4-a76c-45e4-b311-81292a2d14cf",
   "metadata": {},
   "outputs": [],
   "source": [
    "# Read JSON file and write to csv file\n",
    "\n",
    "def json_to_csv(file_name):\n",
    "    rows = list()\n",
    "    with open(file_name + '.json') as file:\n",
    "        rows = json.load(file)\n",
    "\n",
    "    with open(file_name + '_new.csv', 'w') as file:\n",
    "        writer = csv.writer(file)\n",
    "        writer.writerow(rows[0].keys())\n",
    "        for row in rows:\n",
    "            writer.writerow(row.values())\n"
   ]
  },
  {
   "cell_type": "code",
   "execution_count": 5,
   "id": "aa6ceceb-dbf1-4c8d-8fc4-13c92519f738",
   "metadata": {},
   "outputs": [],
   "source": [
    "json_to_csv('emp_data')"
   ]
  },
  {
   "cell_type": "code",
   "execution_count": null,
   "id": "e4c75cad-32ac-4355-a84b-1b8b306e49ca",
   "metadata": {},
   "outputs": [],
   "source": []
  }
 ],
 "metadata": {
  "kernelspec": {
   "display_name": "Python 3 (ipykernel)",
   "language": "python",
   "name": "python3"
  },
  "language_info": {
   "codemirror_mode": {
    "name": "ipython",
    "version": 3
   },
   "file_extension": ".py",
   "mimetype": "text/x-python",
   "name": "python",
   "nbconvert_exporter": "python",
   "pygments_lexer": "ipython3",
   "version": "3.11.7"
  }
 },
 "nbformat": 4,
 "nbformat_minor": 5
}
